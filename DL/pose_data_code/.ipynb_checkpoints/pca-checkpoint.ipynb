{
 "cells": [
  {
   "cell_type": "code",
   "execution_count": 36,
   "metadata": {
    "scrolled": true
   },
   "outputs": [
    {
     "data": {
      "text/html": [
       "<div>\n",
       "<style scoped>\n",
       "    .dataframe tbody tr th:only-of-type {\n",
       "        vertical-align: middle;\n",
       "    }\n",
       "\n",
       "    .dataframe tbody tr th {\n",
       "        vertical-align: top;\n",
       "    }\n",
       "\n",
       "    .dataframe thead th {\n",
       "        text-align: right;\n",
       "    }\n",
       "</style>\n",
       "<table border=\"1\" class=\"dataframe\">\n",
       "  <thead>\n",
       "    <tr style=\"text-align: right;\">\n",
       "      <th></th>\n",
       "      <th>class</th>\n",
       "      <th>1</th>\n",
       "      <th>2</th>\n",
       "      <th>3</th>\n",
       "      <th>4</th>\n",
       "      <th>5</th>\n",
       "      <th>6</th>\n",
       "      <th>7</th>\n",
       "      <th>8</th>\n",
       "      <th>9</th>\n",
       "      <th>...</th>\n",
       "      <th>41</th>\n",
       "      <th>42</th>\n",
       "      <th>43</th>\n",
       "      <th>44</th>\n",
       "      <th>45</th>\n",
       "      <th>46</th>\n",
       "      <th>47</th>\n",
       "      <th>48</th>\n",
       "      <th>49</th>\n",
       "      <th>50</th>\n",
       "    </tr>\n",
       "  </thead>\n",
       "  <tbody>\n",
       "    <tr>\n",
       "      <th>0</th>\n",
       "      <td>0.0</td>\n",
       "      <td>4.0</td>\n",
       "      <td>18.0</td>\n",
       "      <td>0.0</td>\n",
       "      <td>0.0</td>\n",
       "      <td>8.0</td>\n",
       "      <td>6.0</td>\n",
       "      <td>NaN</td>\n",
       "      <td>NaN</td>\n",
       "      <td>NaN</td>\n",
       "      <td>...</td>\n",
       "      <td>NaN</td>\n",
       "      <td>NaN</td>\n",
       "      <td>NaN</td>\n",
       "      <td>NaN</td>\n",
       "      <td>NaN</td>\n",
       "      <td>NaN</td>\n",
       "      <td>NaN</td>\n",
       "      <td>NaN</td>\n",
       "      <td>-14.0</td>\n",
       "      <td>-149.0</td>\n",
       "    </tr>\n",
       "    <tr>\n",
       "      <th>1</th>\n",
       "      <td>0.0</td>\n",
       "      <td>7.0</td>\n",
       "      <td>18.0</td>\n",
       "      <td>0.0</td>\n",
       "      <td>0.0</td>\n",
       "      <td>11.0</td>\n",
       "      <td>5.0</td>\n",
       "      <td>NaN</td>\n",
       "      <td>NaN</td>\n",
       "      <td>NaN</td>\n",
       "      <td>...</td>\n",
       "      <td>NaN</td>\n",
       "      <td>NaN</td>\n",
       "      <td>NaN</td>\n",
       "      <td>NaN</td>\n",
       "      <td>NaN</td>\n",
       "      <td>NaN</td>\n",
       "      <td>NaN</td>\n",
       "      <td>NaN</td>\n",
       "      <td>NaN</td>\n",
       "      <td>NaN</td>\n",
       "    </tr>\n",
       "    <tr>\n",
       "      <th>2</th>\n",
       "      <td>0.0</td>\n",
       "      <td>7.0</td>\n",
       "      <td>17.0</td>\n",
       "      <td>0.0</td>\n",
       "      <td>0.0</td>\n",
       "      <td>11.0</td>\n",
       "      <td>5.0</td>\n",
       "      <td>NaN</td>\n",
       "      <td>NaN</td>\n",
       "      <td>NaN</td>\n",
       "      <td>...</td>\n",
       "      <td>5.0</td>\n",
       "      <td>-157.0</td>\n",
       "      <td>-3.0</td>\n",
       "      <td>-153.0</td>\n",
       "      <td>12.0</td>\n",
       "      <td>-153.0</td>\n",
       "      <td>NaN</td>\n",
       "      <td>NaN</td>\n",
       "      <td>NaN</td>\n",
       "      <td>NaN</td>\n",
       "    </tr>\n",
       "    <tr>\n",
       "      <th>3</th>\n",
       "      <td>0.0</td>\n",
       "      <td>1.0</td>\n",
       "      <td>18.0</td>\n",
       "      <td>0.0</td>\n",
       "      <td>0.0</td>\n",
       "      <td>6.0</td>\n",
       "      <td>5.0</td>\n",
       "      <td>NaN</td>\n",
       "      <td>NaN</td>\n",
       "      <td>NaN</td>\n",
       "      <td>...</td>\n",
       "      <td>0.0</td>\n",
       "      <td>-156.0</td>\n",
       "      <td>-14.0</td>\n",
       "      <td>-150.0</td>\n",
       "      <td>7.0</td>\n",
       "      <td>-151.0</td>\n",
       "      <td>NaN</td>\n",
       "      <td>NaN</td>\n",
       "      <td>NaN</td>\n",
       "      <td>NaN</td>\n",
       "    </tr>\n",
       "    <tr>\n",
       "      <th>4</th>\n",
       "      <td>0.0</td>\n",
       "      <td>6.0</td>\n",
       "      <td>17.0</td>\n",
       "      <td>0.0</td>\n",
       "      <td>0.0</td>\n",
       "      <td>11.0</td>\n",
       "      <td>3.0</td>\n",
       "      <td>13.0</td>\n",
       "      <td>-24.0</td>\n",
       "      <td>NaN</td>\n",
       "      <td>...</td>\n",
       "      <td>5.0</td>\n",
       "      <td>-157.0</td>\n",
       "      <td>-3.0</td>\n",
       "      <td>-154.0</td>\n",
       "      <td>NaN</td>\n",
       "      <td>NaN</td>\n",
       "      <td>NaN</td>\n",
       "      <td>NaN</td>\n",
       "      <td>NaN</td>\n",
       "      <td>NaN</td>\n",
       "    </tr>\n",
       "  </tbody>\n",
       "</table>\n",
       "<p>5 rows × 51 columns</p>\n",
       "</div>"
      ],
      "text/plain": [
       "   class    1     2    3    4     5    6     7     8   9  ...   41     42  \\\n",
       "0    0.0  4.0  18.0  0.0  0.0   8.0  6.0   NaN   NaN NaN  ...  NaN    NaN   \n",
       "1    0.0  7.0  18.0  0.0  0.0  11.0  5.0   NaN   NaN NaN  ...  NaN    NaN   \n",
       "2    0.0  7.0  17.0  0.0  0.0  11.0  5.0   NaN   NaN NaN  ...  5.0 -157.0   \n",
       "3    0.0  1.0  18.0  0.0  0.0   6.0  5.0   NaN   NaN NaN  ...  0.0 -156.0   \n",
       "4    0.0  6.0  17.0  0.0  0.0  11.0  3.0  13.0 -24.0 NaN  ...  5.0 -157.0   \n",
       "\n",
       "     43     44    45     46  47  48    49     50  \n",
       "0   NaN    NaN   NaN    NaN NaN NaN -14.0 -149.0  \n",
       "1   NaN    NaN   NaN    NaN NaN NaN   NaN    NaN  \n",
       "2  -3.0 -153.0  12.0 -153.0 NaN NaN   NaN    NaN  \n",
       "3 -14.0 -150.0   7.0 -151.0 NaN NaN   NaN    NaN  \n",
       "4  -3.0 -154.0   NaN    NaN NaN NaN   NaN    NaN  \n",
       "\n",
       "[5 rows x 51 columns]"
      ]
     },
     "execution_count": 36,
     "metadata": {},
     "output_type": "execute_result"
    }
   ],
   "source": [
    "import pandas as pd\n",
    "\n",
    "df_ori = pd.read_csv(r'C:\\Users\\comoj\\SMART_Referee\\data\\output.csv', header = None)\n",
    "df_ori.rename(columns = {0 : 'class'}, inplace = True)\n",
    "df_ori.head()\n",
    "# 214~224, 686~699"
   ]
  },
  {
   "cell_type": "code",
   "execution_count": 4,
   "metadata": {
    "scrolled": true
   },
   "outputs": [
    {
     "data": {
      "text/html": [
       "<div>\n",
       "<style scoped>\n",
       "    .dataframe tbody tr th:only-of-type {\n",
       "        vertical-align: middle;\n",
       "    }\n",
       "\n",
       "    .dataframe tbody tr th {\n",
       "        vertical-align: top;\n",
       "    }\n",
       "\n",
       "    .dataframe thead th {\n",
       "        text-align: right;\n",
       "    }\n",
       "</style>\n",
       "<table border=\"1\" class=\"dataframe\">\n",
       "  <thead>\n",
       "    <tr style=\"text-align: right;\">\n",
       "      <th></th>\n",
       "      <th>1</th>\n",
       "      <th>2</th>\n",
       "      <th>3</th>\n",
       "      <th>4</th>\n",
       "      <th>5</th>\n",
       "      <th>6</th>\n",
       "      <th>7</th>\n",
       "      <th>8</th>\n",
       "      <th>9</th>\n",
       "      <th>10</th>\n",
       "      <th>...</th>\n",
       "      <th>41</th>\n",
       "      <th>42</th>\n",
       "      <th>43</th>\n",
       "      <th>44</th>\n",
       "      <th>45</th>\n",
       "      <th>46</th>\n",
       "      <th>47</th>\n",
       "      <th>48</th>\n",
       "      <th>49</th>\n",
       "      <th>50</th>\n",
       "    </tr>\n",
       "  </thead>\n",
       "  <tbody>\n",
       "    <tr>\n",
       "      <th>0</th>\n",
       "      <td>4.0</td>\n",
       "      <td>18.0</td>\n",
       "      <td>0.0</td>\n",
       "      <td>0.0</td>\n",
       "      <td>8.0</td>\n",
       "      <td>6.0</td>\n",
       "      <td>NaN</td>\n",
       "      <td>NaN</td>\n",
       "      <td>NaN</td>\n",
       "      <td>NaN</td>\n",
       "      <td>...</td>\n",
       "      <td>NaN</td>\n",
       "      <td>NaN</td>\n",
       "      <td>NaN</td>\n",
       "      <td>NaN</td>\n",
       "      <td>NaN</td>\n",
       "      <td>NaN</td>\n",
       "      <td>NaN</td>\n",
       "      <td>NaN</td>\n",
       "      <td>-14.0</td>\n",
       "      <td>-149.0</td>\n",
       "    </tr>\n",
       "    <tr>\n",
       "      <th>1</th>\n",
       "      <td>7.0</td>\n",
       "      <td>18.0</td>\n",
       "      <td>0.0</td>\n",
       "      <td>0.0</td>\n",
       "      <td>11.0</td>\n",
       "      <td>5.0</td>\n",
       "      <td>NaN</td>\n",
       "      <td>NaN</td>\n",
       "      <td>NaN</td>\n",
       "      <td>NaN</td>\n",
       "      <td>...</td>\n",
       "      <td>NaN</td>\n",
       "      <td>NaN</td>\n",
       "      <td>NaN</td>\n",
       "      <td>NaN</td>\n",
       "      <td>NaN</td>\n",
       "      <td>NaN</td>\n",
       "      <td>NaN</td>\n",
       "      <td>NaN</td>\n",
       "      <td>NaN</td>\n",
       "      <td>NaN</td>\n",
       "    </tr>\n",
       "    <tr>\n",
       "      <th>2</th>\n",
       "      <td>7.0</td>\n",
       "      <td>17.0</td>\n",
       "      <td>0.0</td>\n",
       "      <td>0.0</td>\n",
       "      <td>11.0</td>\n",
       "      <td>5.0</td>\n",
       "      <td>NaN</td>\n",
       "      <td>NaN</td>\n",
       "      <td>NaN</td>\n",
       "      <td>NaN</td>\n",
       "      <td>...</td>\n",
       "      <td>5.0</td>\n",
       "      <td>-157.0</td>\n",
       "      <td>-3.0</td>\n",
       "      <td>-153.0</td>\n",
       "      <td>12.0</td>\n",
       "      <td>-153.0</td>\n",
       "      <td>NaN</td>\n",
       "      <td>NaN</td>\n",
       "      <td>NaN</td>\n",
       "      <td>NaN</td>\n",
       "    </tr>\n",
       "    <tr>\n",
       "      <th>3</th>\n",
       "      <td>1.0</td>\n",
       "      <td>18.0</td>\n",
       "      <td>0.0</td>\n",
       "      <td>0.0</td>\n",
       "      <td>6.0</td>\n",
       "      <td>5.0</td>\n",
       "      <td>NaN</td>\n",
       "      <td>NaN</td>\n",
       "      <td>NaN</td>\n",
       "      <td>NaN</td>\n",
       "      <td>...</td>\n",
       "      <td>0.0</td>\n",
       "      <td>-156.0</td>\n",
       "      <td>-14.0</td>\n",
       "      <td>-150.0</td>\n",
       "      <td>7.0</td>\n",
       "      <td>-151.0</td>\n",
       "      <td>NaN</td>\n",
       "      <td>NaN</td>\n",
       "      <td>NaN</td>\n",
       "      <td>NaN</td>\n",
       "    </tr>\n",
       "    <tr>\n",
       "      <th>4</th>\n",
       "      <td>6.0</td>\n",
       "      <td>17.0</td>\n",
       "      <td>0.0</td>\n",
       "      <td>0.0</td>\n",
       "      <td>11.0</td>\n",
       "      <td>3.0</td>\n",
       "      <td>13.0</td>\n",
       "      <td>-24.0</td>\n",
       "      <td>NaN</td>\n",
       "      <td>NaN</td>\n",
       "      <td>...</td>\n",
       "      <td>5.0</td>\n",
       "      <td>-157.0</td>\n",
       "      <td>-3.0</td>\n",
       "      <td>-154.0</td>\n",
       "      <td>NaN</td>\n",
       "      <td>NaN</td>\n",
       "      <td>NaN</td>\n",
       "      <td>NaN</td>\n",
       "      <td>NaN</td>\n",
       "      <td>NaN</td>\n",
       "    </tr>\n",
       "  </tbody>\n",
       "</table>\n",
       "<p>5 rows × 50 columns</p>\n",
       "</div>"
      ],
      "text/plain": [
       "    1     2    3    4     5    6     7     8   9   10  ...   41     42    43  \\\n",
       "0  4.0  18.0  0.0  0.0   8.0  6.0   NaN   NaN NaN NaN  ...  NaN    NaN   NaN   \n",
       "1  7.0  18.0  0.0  0.0  11.0  5.0   NaN   NaN NaN NaN  ...  NaN    NaN   NaN   \n",
       "2  7.0  17.0  0.0  0.0  11.0  5.0   NaN   NaN NaN NaN  ...  5.0 -157.0  -3.0   \n",
       "3  1.0  18.0  0.0  0.0   6.0  5.0   NaN   NaN NaN NaN  ...  0.0 -156.0 -14.0   \n",
       "4  6.0  17.0  0.0  0.0  11.0  3.0  13.0 -24.0 NaN NaN  ...  5.0 -157.0  -3.0   \n",
       "\n",
       "      44    45     46  47  48    49     50  \n",
       "0    NaN   NaN    NaN NaN NaN -14.0 -149.0  \n",
       "1    NaN   NaN    NaN NaN NaN   NaN    NaN  \n",
       "2 -153.0  12.0 -153.0 NaN NaN   NaN    NaN  \n",
       "3 -150.0   7.0 -151.0 NaN NaN   NaN    NaN  \n",
       "4 -154.0   NaN    NaN NaN NaN   NaN    NaN  \n",
       "\n",
       "[5 rows x 50 columns]"
      ]
     },
     "execution_count": 4,
     "metadata": {},
     "output_type": "execute_result"
    }
   ],
   "source": [
    "df = df_ori[[i for i in range(1,51)]]\n",
    "df.head()"
   ]
  },
  {
   "cell_type": "code",
   "execution_count": 33,
   "metadata": {
    "scrolled": false
   },
   "outputs": [
    {
     "ename": "SyntaxError",
     "evalue": "Python keyword not valid identifier in numexpr query (<unknown>, line 1)",
     "output_type": "error",
     "traceback": [
      "Traceback \u001b[1;36m(most recent call last)\u001b[0m:\n",
      "  File \u001b[0;32m\"C:\\Users\\comoj\\Anaconda3\\lib\\site-packages\\IPython\\core\\interactiveshell.py\"\u001b[0m, line \u001b[0;32m3296\u001b[0m, in \u001b[0;35mrun_code\u001b[0m\n    exec(code_obj, self.user_global_ns, self.user_ns)\n",
      "  File \u001b[0;32m\"<ipython-input-33-2934f4809023>\"\u001b[0m, line \u001b[0;32m5\u001b[0m, in \u001b[0;35m<module>\u001b[0m\n    df_ori.query('class == 0')\n",
      "  File \u001b[0;32m\"C:\\Users\\comoj\\Anaconda3\\lib\\site-packages\\pandas\\core\\frame.py\"\u001b[0m, line \u001b[0;32m3088\u001b[0m, in \u001b[0;35mquery\u001b[0m\n    res = self.eval(expr, **kwargs)\n",
      "  File \u001b[0;32m\"C:\\Users\\comoj\\Anaconda3\\lib\\site-packages\\pandas\\core\\frame.py\"\u001b[0m, line \u001b[0;32m3203\u001b[0m, in \u001b[0;35meval\u001b[0m\n    return _eval(expr, inplace=inplace, **kwargs)\n",
      "  File \u001b[0;32m\"C:\\Users\\comoj\\Anaconda3\\lib\\site-packages\\pandas\\core\\computation\\eval.py\"\u001b[0m, line \u001b[0;32m294\u001b[0m, in \u001b[0;35meval\u001b[0m\n    truediv=truediv)\n",
      "  File \u001b[0;32m\"C:\\Users\\comoj\\Anaconda3\\lib\\site-packages\\pandas\\core\\computation\\expr.py\"\u001b[0m, line \u001b[0;32m749\u001b[0m, in \u001b[0;35m__init__\u001b[0m\n    self.terms = self.parse()\n",
      "  File \u001b[0;32m\"C:\\Users\\comoj\\Anaconda3\\lib\\site-packages\\pandas\\core\\computation\\expr.py\"\u001b[0m, line \u001b[0;32m766\u001b[0m, in \u001b[0;35mparse\u001b[0m\n    return self._visitor.visit(self.expr)\n",
      "  File \u001b[0;32m\"C:\\Users\\comoj\\Anaconda3\\lib\\site-packages\\pandas\\core\\computation\\expr.py\"\u001b[0m, line \u001b[0;32m327\u001b[0m, in \u001b[0;35mvisit\u001b[0m\n    raise e\n",
      "  File \u001b[0;32m\"C:\\Users\\comoj\\Anaconda3\\lib\\site-packages\\pandas\\core\\computation\\expr.py\"\u001b[0m, line \u001b[0;32m321\u001b[0m, in \u001b[0;35mvisit\u001b[0m\n    node = ast.fix_missing_locations(ast.parse(clean))\n",
      "\u001b[1;36m  File \u001b[1;32m\"C:\\Users\\comoj\\Anaconda3\\lib\\ast.py\"\u001b[1;36m, line \u001b[1;32m35\u001b[1;36m, in \u001b[1;35mparse\u001b[1;36m\u001b[0m\n\u001b[1;33m    return compile(source, filename, mode, PyCF_ONLY_AST)\u001b[0m\n",
      "\u001b[1;36m  File \u001b[1;32m\"<unknown>\"\u001b[1;36m, line \u001b[1;32m1\u001b[0m\n\u001b[1;33m    class ==0\u001b[0m\n\u001b[1;37m           ^\u001b[0m\n\u001b[1;31mSyntaxError\u001b[0m\u001b[1;31m:\u001b[0m Python keyword not valid identifier in numexpr query\n"
     ]
    },
    {
     "data": {
      "text/plain": [
       "<Figure size 432x288 with 0 Axes>"
      ]
     },
     "metadata": {},
     "output_type": "display_data"
    }
   ],
   "source": [
    "%matplotlib inline\n",
    "import matplotlib.pyplot as plt\n",
    "plt.figure()\n",
    "df = df[:727]\n",
    "df_ori.query('class == 0')"
   ]
  },
  {
   "cell_type": "code",
   "execution_count": 55,
   "metadata": {},
   "outputs": [
    {
     "data": {
      "text/plain": [
       "<matplotlib.collections.PathCollection at 0x27adb67c518>"
      ]
     },
     "execution_count": 55,
     "metadata": {},
     "output_type": "execute_result"
    },
    {
     "data": {
      "image/png": "[encoded data removed]",
      "text/plain": [
       "<Figure size 432x288 with 1 Axes>"
      ]
     },
     "metadata": {
      "needs_background": "light"
     },
     "output_type": "display_data"
    }
   ],
   "source": [
    "plt.figure()\n",
    "plt.scatter(df.loc[220:224,[i for i in range(50) if i % 2 == 1]], df.loc[220:224,[i for i in range(1,51) if i % 2 == 0]])\n",
    "plt.scatter(df.loc[220:224,5], df.loc[220:224,6], c='red')\n",
    "plt.scatter(df.loc[220:224,11], df.loc[220:224,12], c='red')"
   ]
  },
  {
   "cell_type": "markdown",
   "metadata": {},
   "source": [
    "# 2차원"
   ]
  },
  {
   "cell_type": "code",
   "execution_count": 5,
   "metadata": {
    "scrolled": true
   },
   "outputs": [
    {
     "name": "stdout",
     "output_type": "stream",
     "text": [
      "singular value : [22.28156649  7.10364486]\n",
      "singular vector :\n",
      " [[-0.18033767  0.20216891 -0.15907214  0.17832382 -0.15776059  0.16649576\n",
      "  -0.15300949  0.13835957 -0.14788482  0.12632658 -0.1580549   0.17994554\n",
      "  -0.1443395   0.14385221 -0.14850273  0.13216502 -0.14300616  0.12668789\n",
      "  -0.14352596  0.12511833 -0.1190018   0.08641472 -0.09843446  0.06719524\n",
      "  -0.1435239   0.12902628 -0.11698448  0.08528097 -0.10700279  0.07633438\n",
      "  -0.17862257  0.19757887 -0.1780324   0.20636489 -0.15369875  0.15495568\n",
      "  -0.1730192   0.20049668 -0.12848521  0.10351658 -0.13272063  0.10767731\n",
      "  -0.12112076  0.09321453 -0.12162563  0.09724937 -0.12388064  0.09979337\n",
      "  -0.11720131  0.08917159]\n",
      " [ 0.07124779 -0.21970514  0.06790245 -0.17595828  0.04080057 -0.14776921\n",
      "  -0.04365305 -0.04426382 -0.07006217 -0.01358276  0.07218999 -0.17769903\n",
      "   0.00966789 -0.0920402  -0.05329454 -0.03135531 -0.04657284 -0.03246762\n",
      "  -0.04986309 -0.03195181 -0.128831    0.05522369 -0.20923687  0.14841033\n",
      "  -0.03837748 -0.04099048 -0.12413041  0.05279216 -0.20297642  0.14053023\n",
      "   0.06043721 -0.2075031   0.08619546 -0.23544568  0.00801772 -0.11479536\n",
      "   0.08765835 -0.23402753 -0.23045618  0.16850921 -0.19602166  0.1291422\n",
      "  -0.22465882  0.16408424 -0.24586639  0.18931269 -0.23363214  0.17457739\n",
      "  -0.22035117  0.16058786]]\n",
      "explained variance ratio : [0.79005817 0.08030269]\n",
      "[-0.18033767  0.20216891 -0.15907214  0.17832382 -0.15776059  0.16649576\n",
      " -0.15300949  0.13835957 -0.14788482  0.12632658 -0.1580549   0.17994554\n",
      " -0.1443395   0.14385221 -0.14850273  0.13216502 -0.14300616  0.12668789\n",
      " -0.14352596  0.12511833 -0.1190018   0.08641472 -0.09843446  0.06719524\n",
      " -0.1435239   0.12902628 -0.11698448  0.08528097 -0.10700279  0.07633438\n",
      " -0.17862257  0.19757887 -0.1780324   0.20636489 -0.15369875  0.15495568\n",
      " -0.1730192   0.20049668 -0.12848521  0.10351658 -0.13272063  0.10767731\n",
      " -0.12112076  0.09321453 -0.12162563  0.09724937 -0.12388064  0.09979337\n",
      " -0.11720131  0.08917159]\n"
     ]
    }
   ],
   "source": [
    "from sklearn.decomposition import PCA\n",
    "pca = PCA(n_components=2)\n",
    "pca.fit(df)\n",
    "print('singular value :', pca.singular_values_)\n",
    "print('singular vector :\\n', pca.components_)\n",
    "print('explained variance ratio :', pca.explained_variance_ratio_)\n",
    "re_vector = pca.components_[0]\n",
    "print(re_vector)"
   ]
  },
  {
   "cell_type": "code",
   "execution_count": 6,
   "metadata": {
    "scrolled": true
   },
   "outputs": [
    {
     "data": {
      "text/plain": [
       "<matplotlib.collections.PathCollection at 0x26f9bcc80f0>"
      ]
     },
     "execution_count": 6,
     "metadata": {},
     "output_type": "execute_result"
    },
    {
     "data": {
      "image/png": "[encoded data removed]",
      "text/plain": [
       "<Figure size 432x288 with 1 Axes>"
      ]
     },
     "metadata": {
      "needs_background": "light"
     },
     "output_type": "display_data"
    }
   ],
   "source": [
    "%matplotlib inline\n",
    "import matplotlib.pyplot as plt\n",
    "plt.figure()\n",
    "plt.scatter(pca.fit_transform(df)[:,0], pca.fit_transform(df)[:,1])\n",
    "# pca.fit_transform(df)[0:2]"
   ]
  },
  {
   "cell_type": "code",
   "execution_count": 7,
   "metadata": {
    "scrolled": false
   },
   "outputs": [
    {
     "data": {
      "text/plain": [
       "(-0.4, 0.8)"
      ]
     },
     "execution_count": 7,
     "metadata": {},
     "output_type": "execute_result"
    },
    {
     "data": {
      "image/png": "[encoded data removed]",
      "text/plain": [
       "<Figure size 432x288 with 1 Axes>"
      ]
     },
     "metadata": {
      "needs_background": "light"
     },
     "output_type": "display_data"
    }
   ],
   "source": [
    "plt.figure()\n",
    "plt.scatter(pca.fit_transform(df)[:,0], pca.fit_transform(df)[:,1],c='blue')\n",
    "plt.scatter(pca.fit_transform(df)[214:255,0], pca.fit_transform(df)[214:255,1],c='red')\n",
    "plt.scatter(pca.fit_transform(df)[686:699,0], pca.fit_transform(df)[686:699,1],c='red')\n",
    "plt.xlim(-1,4)\n",
    "plt.ylim(-0.4,0.8)"
   ]
  },
  {
   "cell_type": "markdown",
   "metadata": {},
   "source": [
    "# 1차원"
   ]
  },
  {
   "cell_type": "code",
   "execution_count": 86,
   "metadata": {},
   "outputs": [
    {
     "name": "stdout",
     "output_type": "stream",
     "text": [
      "singular value : [22.28156649]\n",
      "singular vector :\n",
      " [[-0.18033767  0.20216891 -0.15907214  0.17832382 -0.15776059  0.16649576\n",
      "  -0.15300949  0.13835957 -0.14788482  0.12632658 -0.1580549   0.17994554\n",
      "  -0.1443395   0.14385221 -0.14850273  0.13216502 -0.14300616  0.12668789\n",
      "  -0.14352596  0.12511833 -0.1190018   0.08641472 -0.09843446  0.06719524\n",
      "  -0.1435239   0.12902628 -0.11698448  0.08528097 -0.10700279  0.07633438\n",
      "  -0.17862257  0.19757887 -0.1780324   0.20636489 -0.15369875  0.15495568\n",
      "  -0.1730192   0.20049668 -0.12848521  0.10351658 -0.13272063  0.10767731\n",
      "  -0.12112076  0.09321453 -0.12162563  0.09724937 -0.12388064  0.09979337\n",
      "  -0.11720131  0.08917159]]\n",
      "explained variance ratio : [0.79005817]\n",
      "[-0.18033767  0.20216891 -0.15907214  0.17832382 -0.15776059  0.16649576\n",
      " -0.15300949  0.13835957 -0.14788482  0.12632658 -0.1580549   0.17994554\n",
      " -0.1443395   0.14385221 -0.14850273  0.13216502 -0.14300616  0.12668789\n",
      " -0.14352596  0.12511833 -0.1190018   0.08641472 -0.09843446  0.06719524\n",
      " -0.1435239   0.12902628 -0.11698448  0.08528097 -0.10700279  0.07633438\n",
      " -0.17862257  0.19757887 -0.1780324   0.20636489 -0.15369875  0.15495568\n",
      " -0.1730192   0.20049668 -0.12848521  0.10351658 -0.13272063  0.10767731\n",
      " -0.12112076  0.09321453 -0.12162563  0.09724937 -0.12388064  0.09979337\n",
      " -0.11720131  0.08917159]\n"
     ]
    }
   ],
   "source": [
    "pca = PCA(n_components=1)\n",
    "pca.fit(df)\n",
    "print('singular value :', pca.singular_values_)\n",
    "print('singular vector :\\n', pca.components_)\n",
    "print('explained variance ratio :', pca.explained_variance_ratio_)\n",
    "re_vector = pca.components_[0]\n",
    "print(re_vector)"
   ]
  },
  {
   "cell_type": "code",
   "execution_count": 87,
   "metadata": {
    "scrolled": true
   },
   "outputs": [
    {
     "data": {
      "text/plain": [
       "<matplotlib.collections.PathCollection at 0x1d8be359860>"
      ]
     },
     "execution_count": 87,
     "metadata": {},
     "output_type": "execute_result"
    },
    {
     "data": {
      "image/png": "[encoded data removed]",
      "text/plain": [
       "<Figure size 432x288 with 1 Axes>"
      ]
     },
     "metadata": {
      "needs_background": "light"
     },
     "output_type": "display_data"
    }
   ],
   "source": [
    "plt.figure()\n",
    "plt.scatter([i for i in range(1214)], pca.fit_transform(df))"
   ]
  },
  {
   "cell_type": "code",
   "execution_count": 31,
   "metadata": {
    "scrolled": false
   },
   "outputs": [
    {
     "name": "stdout",
     "output_type": "stream",
     "text": [
      "mean :  [0.83986623 0.5098208  0.83318347 0.52848427 0.81997592 0.54952421\n",
      " 0.78806964 0.59993616 0.77772528 0.61487096 0.8334755  0.52739131\n",
      " 0.80204542 0.580703   0.78248521 0.60803258 0.7800878  0.61295198\n",
      " 0.77823274 0.61527528 0.73443056 0.67018964 0.70876223 0.69740877\n",
      " 0.78287396 0.609197   0.73393122 0.6712185  0.71762873 0.68682869\n",
      " 0.83184732 0.522459   0.84385765 0.50235518 0.79810909 0.57967333\n",
      " 0.83857432 0.51094976 0.74182533 0.65699261 0.74829676 0.64981359\n",
      " 0.73356079 0.66774542 0.73569946 0.66434657 0.73886575 0.66061713\n",
      " 0.72920607 0.67298227]\n"
     ]
    },
    {
     "data": {
      "image/png": "[encoded data removed]",
      "text/plain": [
       "<Figure size 432x288 with 1 Axes>"
      ]
     },
     "metadata": {
      "needs_background": "light"
     },
     "output_type": "display_data"
    }
   ],
   "source": [
    "plt.figure()\n",
    "plt.scatter([i for i in range(1214)], pca.fit_transform(df),c='blue')\n",
    "plt.scatter([i for i in range(214,255)], pca.fit_transform(df)[214:255],c='red')\n",
    "plt.scatter([i for i in range(686,699)], pca.fit_transform(df)[686:699],c='red')\n",
    "plt.xlim(0,700)\n",
    "# print(pca.fit_transform(df)[214:255])\n",
    "# plt.ylim(-0.4,0.8)\n",
    "print('mean : ', pca.mean_)"
   ]
  },
  {
   "cell_type": "markdown",
   "metadata": {},
   "source": [
    "# 3차원"
   ]
  },
  {
   "cell_type": "code",
   "execution_count": 101,
   "metadata": {},
   "outputs": [
    {
     "name": "stdout",
     "output_type": "stream",
     "text": [
      "singular value : [22.28156649  7.10364486  3.82492255]\n",
      "singular vector :\n",
      " [[-0.18033767  0.20216891 -0.15907214  0.17832382 -0.15776059  0.16649576\n",
      "  -0.15300949  0.13835957 -0.14788482  0.12632658 -0.1580549   0.17994554\n",
      "  -0.1443395   0.14385221 -0.14850273  0.13216502 -0.14300616  0.12668789\n",
      "  -0.14352596  0.12511833 -0.1190018   0.08641472 -0.09843446  0.06719524\n",
      "  -0.1435239   0.12902628 -0.11698448  0.08528097 -0.10700279  0.07633438\n",
      "  -0.17862257  0.19757887 -0.1780324   0.20636489 -0.15369875  0.15495568\n",
      "  -0.1730192   0.20049668 -0.12848521  0.10351658 -0.13272063  0.10767731\n",
      "  -0.12112076  0.09321453 -0.12162563  0.09724937 -0.12388064  0.09979337\n",
      "  -0.11720131  0.08917159]\n",
      " [ 0.07124779 -0.21970514  0.06790245 -0.17595828  0.04080057 -0.14776921\n",
      "  -0.04365305 -0.04426382 -0.07006217 -0.01358276  0.07218999 -0.17769903\n",
      "   0.00966789 -0.0920402  -0.05329454 -0.03135531 -0.04657284 -0.03246762\n",
      "  -0.04986309 -0.03195181 -0.128831    0.05522369 -0.20923687  0.14841033\n",
      "  -0.03837748 -0.04099048 -0.12413041  0.05279216 -0.20297642  0.14053023\n",
      "   0.06043721 -0.2075031   0.08619546 -0.23544568  0.00801772 -0.11479536\n",
      "   0.08765835 -0.23402753 -0.23045618  0.16850921 -0.19602166  0.1291422\n",
      "  -0.22465882  0.16408424 -0.24586639  0.18931269 -0.23363214  0.17457739\n",
      "  -0.22035117  0.16058786]\n",
      " [-0.08524996 -0.11895977 -0.07446144 -0.08571684 -0.11650399 -0.0426014\n",
      "  -0.14940288 -0.03128145 -0.17183961 -0.00525472 -0.06101294 -0.09743545\n",
      "  -0.12100456 -0.01584969 -0.14702873 -0.02544692 -0.15860071  0.00303728\n",
      "  -0.17232011  0.01424338 -0.23151357  0.08241892 -0.18601207  0.03709769\n",
      "  -0.15364476  0.00198843 -0.23152909  0.08531303 -0.18681734  0.03037406\n",
      "  -0.06204682 -0.16306815 -0.05637739 -0.13980186 -0.13915443 -0.03388319\n",
      "  -0.03997826 -0.17100068  0.10640079 -0.30329666  0.0462391  -0.23724078\n",
      "   0.00484869 -0.19383285  0.13926535 -0.33801749  0.12091733 -0.31845745\n",
      "  -0.03203004 -0.14411624]]\n",
      "explained variance ratio : [0.79005817 0.08030269 0.02328161]\n"
     ]
    }
   ],
   "source": [
    "pca = PCA(n_components=3)\n",
    "pca.fit(df)\n",
    "print('singular value :', pca.singular_values_)\n",
    "print('singular vector :\\n', pca.components_)\n",
    "print('explained variance ratio :', pca.explained_variance_ratio_)\n",
    "re_vector = pca.components_[0]"
   ]
  },
  {
   "cell_type": "code",
   "execution_count": 102,
   "metadata": {},
   "outputs": [
    {
     "data": {
      "text/plain": [
       "<mpl_toolkits.mplot3d.art3d.Path3DCollection at 0x1d8bebaefd0>"
      ]
     },
     "execution_count": 102,
     "metadata": {},
     "output_type": "execute_result"
    },
    {
     "data": {
      "image/png": "[encoded data removed]",
      "text/plain": [
       "<Figure size 432x288 with 1 Axes>"
      ]
     },
     "metadata": {
      "needs_background": "light"
     },
     "output_type": "display_data"
    }
   ],
   "source": [
    "from mpl_toolkits.mplot3d import Axes3D\n",
    "import matplotlib.pyplot as plt\n",
    "fig = plt.figure()\n",
    "ax = fig.gca(projection='3d')\n",
    "ax.scatter(pca.fit_transform(df)[:,0],pca.fit_transform(df)[:,1],pca.fit_transform(df)[:,2])"
   ]
  },
  {
   "cell_type": "code",
   "execution_count": 154,
   "metadata": {
    "scrolled": true
   },
   "outputs": [
    {
     "data": {
      "text/plain": [
       "<mpl_toolkits.mplot3d.art3d.Path3DCollection at 0x1d8be5dccc0>"
      ]
     },
     "execution_count": 154,
     "metadata": {},
     "output_type": "execute_result"
    },
    {
     "data": {
      "image/png": "[encoded data removed]",
      "text/plain": [
       "<Figure size 432x288 with 1 Axes>"
      ]
     },
     "metadata": {
      "needs_background": "light"
     },
     "output_type": "display_data"
    }
   ],
   "source": [
    "fig = plt.figure()\n",
    "ax = fig.gca(projection='3d')\n",
    "ax.scatter(pca.fit_transform(df)[:,0],pca.fit_transform(df)[:,1],pca.fit_transform(df)[:,2],c='blue')\n",
    "ax.scatter(pca.fit_transform(df)[214:255,0],pca.fit_transform(df)[214:255,1],pca.fit_transform(df)[214:255,2],c='red')\n",
    "ax.scatter(pca.fit_transform(df)[686:699,0],pca.fit_transform(df)[686:699,1],pca.fit_transform(df)[686:699,2],c='red')"
   ]
  },
  {
   "cell_type": "code",
   "execution_count": 156,
   "metadata": {
    "scrolled": false
   },
   "outputs": [
    {
     "data": {
      "text/plain": [
       "(-0.2, 0.6)"
      ]
     },
     "execution_count": 156,
     "metadata": {},
     "output_type": "execute_result"
    },
    {
     "data": {
      "image/png": "[encoded data removed]",
      "text/plain": [
       "<Figure size 432x288 with 1 Axes>"
      ]
     },
     "metadata": {
      "needs_background": "light"
     },
     "output_type": "display_data"
    }
   ],
   "source": [
    "fig = plt.figure()\n",
    "ax = fig.gca(projection='3d')\n",
    "ax.scatter(pca.fit_transform(df)[214:255,0],pca.fit_transform(df)[214:255,1],pca.fit_transform(df)[214:255,2],c='red')\n",
    "ax.scatter(pca.fit_transform(df)[686:699,0],pca.fit_transform(df)[686:699,1],pca.fit_transform(df)[686:699,2],c='red')\n",
    "plt.xlim(-1,4)\n",
    "plt.ylim(-0.4,0.8)\n",
    "ax.set_zlim(-0.2,0.6)"
   ]
  },
  {
   "cell_type": "markdown",
   "metadata": {},
   "source": [
    "# Test 01"
   ]
  },
  {
   "cell_type": "code",
   "execution_count": 21,
   "metadata": {},
   "outputs": [
    {
     "data": {
      "text/html": [
       "<div>\n",
       "<style scoped>\n",
       "    .dataframe tbody tr th:only-of-type {\n",
       "        vertical-align: middle;\n",
       "    }\n",
       "\n",
       "    .dataframe tbody tr th {\n",
       "        vertical-align: top;\n",
       "    }\n",
       "\n",
       "    .dataframe thead th {\n",
       "        text-align: right;\n",
       "    }\n",
       "</style>\n",
       "<table border=\"1\" class=\"dataframe\">\n",
       "  <thead>\n",
       "    <tr style=\"text-align: right;\">\n",
       "      <th></th>\n",
       "      <th>1</th>\n",
       "      <th>2</th>\n",
       "      <th>3</th>\n",
       "      <th>4</th>\n",
       "      <th>5</th>\n",
       "      <th>6</th>\n",
       "      <th>7</th>\n",
       "      <th>8</th>\n",
       "      <th>9</th>\n",
       "      <th>10</th>\n",
       "      <th>...</th>\n",
       "      <th>41</th>\n",
       "      <th>42</th>\n",
       "      <th>43</th>\n",
       "      <th>44</th>\n",
       "      <th>45</th>\n",
       "      <th>46</th>\n",
       "      <th>47</th>\n",
       "      <th>48</th>\n",
       "      <th>49</th>\n",
       "      <th>50</th>\n",
       "    </tr>\n",
       "  </thead>\n",
       "  <tbody>\n",
       "    <tr>\n",
       "      <th>0</th>\n",
       "      <td>0.910588</td>\n",
       "      <td>0.413316</td>\n",
       "      <td>0.892566</td>\n",
       "      <td>0.450916</td>\n",
       "      <td>0.891278</td>\n",
       "      <td>0.453457</td>\n",
       "      <td>0.808008</td>\n",
       "      <td>0.589172</td>\n",
       "      <td>0.808008</td>\n",
       "      <td>0.589172</td>\n",
       "      <td>...</td>\n",
       "      <td>0.684987</td>\n",
       "      <td>0.728555</td>\n",
       "      <td>0.697488</td>\n",
       "      <td>0.716597</td>\n",
       "      <td>0.680921</td>\n",
       "      <td>0.732357</td>\n",
       "      <td>0.808008</td>\n",
       "      <td>0.589172</td>\n",
       "      <td>0.713024</td>\n",
       "      <td>0.701140</td>\n",
       "    </tr>\n",
       "    <tr>\n",
       "      <th>1</th>\n",
       "      <td>0.910588</td>\n",
       "      <td>0.413316</td>\n",
       "      <td>0.895041</td>\n",
       "      <td>0.445983</td>\n",
       "      <td>0.891918</td>\n",
       "      <td>0.452196</td>\n",
       "      <td>0.806672</td>\n",
       "      <td>0.590999</td>\n",
       "      <td>0.806672</td>\n",
       "      <td>0.590999</td>\n",
       "      <td>...</td>\n",
       "      <td>0.683780</td>\n",
       "      <td>0.729688</td>\n",
       "      <td>0.698683</td>\n",
       "      <td>0.715432</td>\n",
       "      <td>0.680921</td>\n",
       "      <td>0.732357</td>\n",
       "      <td>0.806672</td>\n",
       "      <td>0.590999</td>\n",
       "      <td>0.806672</td>\n",
       "      <td>0.590999</td>\n",
       "    </tr>\n",
       "    <tr>\n",
       "      <th>2</th>\n",
       "      <td>0.911137</td>\n",
       "      <td>0.412104</td>\n",
       "      <td>0.893808</td>\n",
       "      <td>0.448450</td>\n",
       "      <td>0.891918</td>\n",
       "      <td>0.452196</td>\n",
       "      <td>0.808008</td>\n",
       "      <td>0.589172</td>\n",
       "      <td>0.808008</td>\n",
       "      <td>0.589172</td>\n",
       "      <td>...</td>\n",
       "      <td>0.685064</td>\n",
       "      <td>0.728483</td>\n",
       "      <td>0.697488</td>\n",
       "      <td>0.716597</td>\n",
       "      <td>0.679701</td>\n",
       "      <td>0.733490</td>\n",
       "      <td>0.808008</td>\n",
       "      <td>0.589172</td>\n",
       "      <td>0.711852</td>\n",
       "      <td>0.702329</td>\n",
       "    </tr>\n",
       "    <tr>\n",
       "      <th>3</th>\n",
       "      <td>0.907098</td>\n",
       "      <td>0.420920</td>\n",
       "      <td>0.892566</td>\n",
       "      <td>0.450916</td>\n",
       "      <td>0.890012</td>\n",
       "      <td>0.455936</td>\n",
       "      <td>0.806672</td>\n",
       "      <td>0.590999</td>\n",
       "      <td>0.806672</td>\n",
       "      <td>0.590999</td>\n",
       "      <td>...</td>\n",
       "      <td>0.683780</td>\n",
       "      <td>0.729688</td>\n",
       "      <td>0.696258</td>\n",
       "      <td>0.717792</td>\n",
       "      <td>0.679701</td>\n",
       "      <td>0.733490</td>\n",
       "      <td>0.806672</td>\n",
       "      <td>0.590999</td>\n",
       "      <td>0.711852</td>\n",
       "      <td>0.702329</td>\n",
       "    </tr>\n",
       "    <tr>\n",
       "      <th>4</th>\n",
       "      <td>0.906517</td>\n",
       "      <td>0.422169</td>\n",
       "      <td>0.891322</td>\n",
       "      <td>0.453371</td>\n",
       "      <td>0.889361</td>\n",
       "      <td>0.457206</td>\n",
       "      <td>0.806672</td>\n",
       "      <td>0.590999</td>\n",
       "      <td>0.806672</td>\n",
       "      <td>0.590999</td>\n",
       "      <td>...</td>\n",
       "      <td>0.682491</td>\n",
       "      <td>0.730894</td>\n",
       "      <td>0.696258</td>\n",
       "      <td>0.717792</td>\n",
       "      <td>0.679701</td>\n",
       "      <td>0.733490</td>\n",
       "      <td>0.806672</td>\n",
       "      <td>0.590999</td>\n",
       "      <td>0.710675</td>\n",
       "      <td>0.703521</td>\n",
       "    </tr>\n",
       "  </tbody>\n",
       "</table>\n",
       "<p>5 rows × 50 columns</p>\n",
       "</div>"
      ],
      "text/plain": [
       "         1         2         3         4         5         6         7   \\\n",
       "0  0.910588  0.413316  0.892566  0.450916  0.891278  0.453457  0.808008   \n",
       "1  0.910588  0.413316  0.895041  0.445983  0.891918  0.452196  0.806672   \n",
       "2  0.911137  0.412104  0.893808  0.448450  0.891918  0.452196  0.808008   \n",
       "3  0.907098  0.420920  0.892566  0.450916  0.890012  0.455936  0.806672   \n",
       "4  0.906517  0.422169  0.891322  0.453371  0.889361  0.457206  0.806672   \n",
       "\n",
       "         8         9         10  ...        41        42        43        44  \\\n",
       "0  0.589172  0.808008  0.589172  ...  0.684987  0.728555  0.697488  0.716597   \n",
       "1  0.590999  0.806672  0.590999  ...  0.683780  0.729688  0.698683  0.715432   \n",
       "2  0.589172  0.808008  0.589172  ...  0.685064  0.728483  0.697488  0.716597   \n",
       "3  0.590999  0.806672  0.590999  ...  0.683780  0.729688  0.696258  0.717792   \n",
       "4  0.590999  0.806672  0.590999  ...  0.682491  0.730894  0.696258  0.717792   \n",
       "\n",
       "         45        46        47        48        49        50  \n",
       "0  0.680921  0.732357  0.808008  0.589172  0.713024  0.701140  \n",
       "1  0.680921  0.732357  0.806672  0.590999  0.806672  0.590999  \n",
       "2  0.679701  0.733490  0.808008  0.589172  0.711852  0.702329  \n",
       "3  0.679701  0.733490  0.806672  0.590999  0.711852  0.702329  \n",
       "4  0.679701  0.733490  0.806672  0.590999  0.710675  0.703521  \n",
       "\n",
       "[5 rows x 50 columns]"
      ]
     },
     "execution_count": 21,
     "metadata": {},
     "output_type": "execute_result"
    }
   ],
   "source": [
    "new_df = df[0:701]\n",
    "new_df.head()"
   ]
  },
  {
   "cell_type": "code",
   "execution_count": 22,
   "metadata": {
    "scrolled": false
   },
   "outputs": [
    {
     "name": "stdout",
     "output_type": "stream",
     "text": [
      "singular value : [5.44749318]\n",
      "singular vector :\n",
      " [[-0.06164671  0.09550659 -0.05230523  0.07635149 -0.03511502  0.04725296\n",
      "  -0.07066157  0.09105325 -0.06431311  0.07710546 -0.05357476  0.08098467\n",
      "  -0.04371063  0.05507649 -0.07136857  0.08897081 -0.05335293  0.06254984\n",
      "  -0.04644433  0.05306162 -0.0359385   0.03555077 -0.10215456  0.11503035\n",
      "  -0.05040378  0.05969742 -0.04090529  0.03907208 -0.13344218  0.14489151\n",
      "  -0.08310282  0.13062464 -0.06407211  0.10172787 -0.07283075  0.10631845\n",
      "  -0.08053795  0.13154223 -0.25289021  0.28868508 -0.22470534  0.25567249\n",
      "  -0.21295054  0.24517744 -0.26516561  0.30235247 -0.24648587  0.2817244\n",
      "  -0.19539953  0.22532656]]\n",
      "explained variance ratio : [0.3476199]\n"
     ]
    }
   ],
   "source": [
    "pca = PCA(n_components=1)\n",
    "pca.fit(new_df)\n",
    "print('singular value :', pca.singular_values_)\n",
    "print('singular vector :\\n', pca.components_)\n",
    "print('explained variance ratio :', pca.explained_variance_ratio_)"
   ]
  },
  {
   "cell_type": "code",
   "execution_count": 23,
   "metadata": {},
   "outputs": [
    {
     "data": {
      "text/plain": [
       "<matplotlib.collections.PathCollection at 0x26f9ddbfa20>"
      ]
     },
     "execution_count": 23,
     "metadata": {},
     "output_type": "execute_result"
    },
    {
     "data": {
      "image/png": "[encoded data removed]",
      "text/plain": [
       "<Figure size 432x288 with 1 Axes>"
      ]
     },
     "metadata": {
      "needs_background": "light"
     },
     "output_type": "display_data"
    }
   ],
   "source": [
    "plt.figure()\n",
    "plt.scatter([i for i in range(701)], pca.fit_transform(new_df))"
   ]
  },
  {
   "cell_type": "code",
   "execution_count": 27,
   "metadata": {
    "scrolled": true
   },
   "outputs": [
    {
     "data": {
      "text/plain": [
       "<matplotlib.collections.PathCollection at 0x26f9dfc1d68>"
      ]
     },
     "execution_count": 27,
     "metadata": {},
     "output_type": "execute_result"
    },
    {
     "data": {
      "image/png": "[encoded data removed]",
      "text/plain": [
       "<Figure size 432x288 with 1 Axes>"
      ]
     },
     "metadata": {
      "needs_background": "light"
     },
     "output_type": "display_data"
    }
   ],
   "source": [
    "plt.figure()\n",
    "plt.scatter([i for i in range(0,213)], pca.fit_transform(new_df)[0:213],c='blue')\n",
    "plt.scatter([i for i in range(214,255)], pca.fit_transform(new_df)[214:255],c='red')\n",
    "plt.scatter([i for i in range(256,685)], pca.fit_transform(new_df)[256:685],c='blue')\n",
    "plt.scatter([i for i in range(686,699)], pca.fit_transform(new_df)[686:699],c='red')\n",
    "plt.scatter([i for i in range(700,701)], pca.fit_transform(new_df)[700:701],c='blue')"
   ]
  },
  {
   "cell_type": "markdown",
   "metadata": {},
   "source": [
    "# Test 02"
   ]
  },
  {
   "cell_type": "code",
   "execution_count": 42,
   "metadata": {},
   "outputs": [
    {
     "data": {
      "text/html": [
       "<div>\n",
       "<style scoped>\n",
       "    .dataframe tbody tr th:only-of-type {\n",
       "        vertical-align: middle;\n",
       "    }\n",
       "\n",
       "    .dataframe tbody tr th {\n",
       "        vertical-align: top;\n",
       "    }\n",
       "\n",
       "    .dataframe thead th {\n",
       "        text-align: right;\n",
       "    }\n",
       "</style>\n",
       "<table border=\"1\" class=\"dataframe\">\n",
       "  <thead>\n",
       "    <tr style=\"text-align: right;\">\n",
       "      <th></th>\n",
       "      <th>1</th>\n",
       "      <th>2</th>\n",
       "      <th>3</th>\n",
       "      <th>4</th>\n",
       "      <th>5</th>\n",
       "      <th>6</th>\n",
       "      <th>7</th>\n",
       "      <th>8</th>\n",
       "      <th>9</th>\n",
       "      <th>10</th>\n",
       "      <th>...</th>\n",
       "      <th>41</th>\n",
       "      <th>42</th>\n",
       "      <th>43</th>\n",
       "      <th>44</th>\n",
       "      <th>45</th>\n",
       "      <th>46</th>\n",
       "      <th>47</th>\n",
       "      <th>48</th>\n",
       "      <th>49</th>\n",
       "      <th>50</th>\n",
       "    </tr>\n",
       "  </thead>\n",
       "  <tbody>\n",
       "    <tr>\n",
       "      <th>214</th>\n",
       "      <td>0.870385</td>\n",
       "      <td>0.492371</td>\n",
       "      <td>0.860144</td>\n",
       "      <td>0.510051</td>\n",
       "      <td>0.853130</td>\n",
       "      <td>0.521698</td>\n",
       "      <td>0.815143</td>\n",
       "      <td>0.579259</td>\n",
       "      <td>0.781679</td>\n",
       "      <td>0.623680</td>\n",
       "      <td>...</td>\n",
       "      <td>0.673282</td>\n",
       "      <td>0.739386</td>\n",
       "      <td>0.687611</td>\n",
       "      <td>0.726079</td>\n",
       "      <td>0.692532</td>\n",
       "      <td>0.721387</td>\n",
       "      <td>0.687611</td>\n",
       "      <td>0.726079</td>\n",
       "      <td>0.713145</td>\n",
       "      <td>0.701017</td>\n",
       "    </tr>\n",
       "    <tr>\n",
       "      <th>215</th>\n",
       "      <td>0.872342</td>\n",
       "      <td>0.488895</td>\n",
       "      <td>0.856693</td>\n",
       "      <td>0.515826</td>\n",
       "      <td>0.845562</td>\n",
       "      <td>0.533877</td>\n",
       "      <td>0.818532</td>\n",
       "      <td>0.574461</td>\n",
       "      <td>0.782754</td>\n",
       "      <td>0.622331</td>\n",
       "      <td>...</td>\n",
       "      <td>0.673282</td>\n",
       "      <td>0.739386</td>\n",
       "      <td>0.688813</td>\n",
       "      <td>0.724939</td>\n",
       "      <td>0.693734</td>\n",
       "      <td>0.720231</td>\n",
       "      <td>0.688813</td>\n",
       "      <td>0.724939</td>\n",
       "      <td>0.782754</td>\n",
       "      <td>0.622331</td>\n",
       "    </tr>\n",
       "    <tr>\n",
       "      <th>216</th>\n",
       "      <td>0.873857</td>\n",
       "      <td>0.486182</td>\n",
       "      <td>0.852906</td>\n",
       "      <td>0.522064</td>\n",
       "      <td>0.848346</td>\n",
       "      <td>0.529442</td>\n",
       "      <td>0.781679</td>\n",
       "      <td>0.623680</td>\n",
       "      <td>0.781679</td>\n",
       "      <td>0.623680</td>\n",
       "      <td>...</td>\n",
       "      <td>0.675946</td>\n",
       "      <td>0.736952</td>\n",
       "      <td>0.688813</td>\n",
       "      <td>0.724939</td>\n",
       "      <td>0.693780</td>\n",
       "      <td>0.720187</td>\n",
       "      <td>0.693780</td>\n",
       "      <td>0.720187</td>\n",
       "      <td>0.707107</td>\n",
       "      <td>0.707107</td>\n",
       "    </tr>\n",
       "    <tr>\n",
       "      <th>217</th>\n",
       "      <td>0.871745</td>\n",
       "      <td>0.489959</td>\n",
       "      <td>0.851036</td>\n",
       "      <td>0.525107</td>\n",
       "      <td>0.848689</td>\n",
       "      <td>0.528893</td>\n",
       "      <td>0.822965</td>\n",
       "      <td>0.568092</td>\n",
       "      <td>0.780598</td>\n",
       "      <td>0.625034</td>\n",
       "      <td>...</td>\n",
       "      <td>0.675946</td>\n",
       "      <td>0.736952</td>\n",
       "      <td>0.684987</td>\n",
       "      <td>0.728555</td>\n",
       "      <td>0.694981</td>\n",
       "      <td>0.719028</td>\n",
       "      <td>0.780598</td>\n",
       "      <td>0.625034</td>\n",
       "      <td>0.710724</td>\n",
       "      <td>0.703471</td>\n",
       "    </tr>\n",
       "    <tr>\n",
       "      <th>218</th>\n",
       "      <td>0.873103</td>\n",
       "      <td>0.487536</td>\n",
       "      <td>0.848689</td>\n",
       "      <td>0.528893</td>\n",
       "      <td>0.842499</td>\n",
       "      <td>0.538698</td>\n",
       "      <td>0.780329</td>\n",
       "      <td>0.625370</td>\n",
       "      <td>0.829266</td>\n",
       "      <td>0.558853</td>\n",
       "      <td>...</td>\n",
       "      <td>0.675946</td>\n",
       "      <td>0.736952</td>\n",
       "      <td>0.685064</td>\n",
       "      <td>0.728483</td>\n",
       "      <td>0.693734</td>\n",
       "      <td>0.720231</td>\n",
       "      <td>0.780329</td>\n",
       "      <td>0.625370</td>\n",
       "      <td>0.707107</td>\n",
       "      <td>0.707107</td>\n",
       "    </tr>\n",
       "  </tbody>\n",
       "</table>\n",
       "<p>5 rows × 50 columns</p>\n",
       "</div>"
      ],
      "text/plain": [
       "           1         2         3         4         5         6         7   \\\n",
       "214  0.870385  0.492371  0.860144  0.510051  0.853130  0.521698  0.815143   \n",
       "215  0.872342  0.488895  0.856693  0.515826  0.845562  0.533877  0.818532   \n",
       "216  0.873857  0.486182  0.852906  0.522064  0.848346  0.529442  0.781679   \n",
       "217  0.871745  0.489959  0.851036  0.525107  0.848689  0.528893  0.822965   \n",
       "218  0.873103  0.487536  0.848689  0.528893  0.842499  0.538698  0.780329   \n",
       "\n",
       "           8         9         10  ...        41        42        43  \\\n",
       "214  0.579259  0.781679  0.623680  ...  0.673282  0.739386  0.687611   \n",
       "215  0.574461  0.782754  0.622331  ...  0.673282  0.739386  0.688813   \n",
       "216  0.623680  0.781679  0.623680  ...  0.675946  0.736952  0.688813   \n",
       "217  0.568092  0.780598  0.625034  ...  0.675946  0.736952  0.684987   \n",
       "218  0.625370  0.829266  0.558853  ...  0.675946  0.736952  0.685064   \n",
       "\n",
       "           44        45        46        47        48        49        50  \n",
       "214  0.726079  0.692532  0.721387  0.687611  0.726079  0.713145  0.701017  \n",
       "215  0.724939  0.693734  0.720231  0.688813  0.724939  0.782754  0.622331  \n",
       "216  0.724939  0.693780  0.720187  0.693780  0.720187  0.707107  0.707107  \n",
       "217  0.728555  0.694981  0.719028  0.780598  0.625034  0.710724  0.703471  \n",
       "218  0.728483  0.693734  0.720231  0.780329  0.625370  0.707107  0.707107  \n",
       "\n",
       "[5 rows x 50 columns]"
      ]
     },
     "execution_count": 42,
     "metadata": {},
     "output_type": "execute_result"
    }
   ],
   "source": [
    "swing_df = df[214:255]\n",
    "swing_df.head()"
   ]
  },
  {
   "cell_type": "code",
   "execution_count": 35,
   "metadata": {
    "scrolled": true
   },
   "outputs": [
    {
     "name": "stdout",
     "output_type": "stream",
     "text": [
      "singular value : [0.96841411 0.7382802  0.59162068 0.5677382  0.52567206]\n",
      "singular vector :\n",
      " [[-0.02549683  0.03538078 -0.0605064   0.091101   -0.08564892  0.12630275\n",
      "  -0.01424326  0.01976771  0.03992926 -0.05549421  0.01548232 -0.02344028\n",
      "  -0.07770801  0.11036056 -0.01883825  0.02879407 -0.00703998  0.01002448\n",
      "  -0.00233697  0.00393051  0.02289916 -0.03181064  0.15539732 -0.17015128\n",
      "  -0.01237464  0.01673832 -0.02221319  0.02209891  0.1251741  -0.13892442\n",
      "  -0.08155275  0.12232133  0.02505509 -0.04379853 -0.10373334  0.15899079\n",
      "  -0.00838567  0.00862645  0.26968633 -0.29492225  0.26768812 -0.29045719\n",
      "   0.23987932 -0.26248267  0.25002756 -0.27180418  0.26560171 -0.28597169\n",
      "   0.15700483 -0.17412659]\n",
      " [-0.08498171  0.14404058 -0.17580296  0.2600476   0.07624202 -0.1186836\n",
      "  -0.05147957  0.0613364  -0.07680339  0.09835016 -0.16197542  0.24362279\n",
      "  -0.1876198   0.25797862 -0.04703135  0.06683337 -0.05697998  0.07267164\n",
      "  -0.0569687   0.07067961 -0.02348288  0.02787884 -0.15534689  0.14409014\n",
      "  -0.05246028  0.06796947 -0.03576869  0.0388079  -0.12962535  0.13297556\n",
      "  -0.04561187  0.07720344 -0.1594794   0.26180204 -0.09012444  0.12954897\n",
      "  -0.20120143  0.33185702  0.10355465 -0.10288845 -0.00510447  0.00909154\n",
      "  -0.16627521  0.17271503  0.09510796 -0.09966579  0.10592967 -0.11506448\n",
      "  -0.2531699   0.2569019 ]\n",
      " [-0.02783226  0.04286278  0.2016712  -0.30684635  0.02500794 -0.04373694\n",
      "  -0.04363883  0.05703282  0.01329963 -0.01866127  0.08394734 -0.13457076\n",
      "   0.09383337 -0.12827885 -0.04896225  0.06966808 -0.01774484  0.02258916\n",
      "   0.02952001 -0.04052137 -0.05172396  0.05210953 -0.17534984  0.18605866\n",
      "  -0.01122184  0.01479395 -0.02307743  0.02459483  0.15209268 -0.15564078\n",
      "  -0.24281845  0.37868492 -0.04757826  0.08102742 -0.34353126  0.51590227\n",
      "   0.00351257  0.00236614 -0.05779072  0.06415555 -0.04635826  0.05495728\n",
      "   0.07051625 -0.07407367 -0.12500795  0.12014959  0.0408104  -0.03921413\n",
      "  -0.0998967   0.10968966]\n",
      " [-0.01433232  0.02157679  0.08417956 -0.14450657  0.1454809  -0.23585661\n",
      "   0.04251691 -0.06173025 -0.0104483   0.01785407  0.00835914 -0.02784231\n",
      "   0.04293767 -0.05731588  0.02101128 -0.02475384 -0.01269011  0.01474226\n",
      "   0.02386718 -0.03505874 -0.08187869  0.08570803 -0.24190606  0.24260653\n",
      "  -0.00652177  0.00703472  0.00868345 -0.00766338  0.06685148 -0.06316615\n",
      "   0.30645694 -0.47622501  0.04804517 -0.07427922 -0.01590737  0.01976339\n",
      "   0.04771061 -0.0759984   0.23475798 -0.25155029  0.23439449 -0.24948944\n",
      "   0.12667776 -0.13257037 -0.13524612  0.12385514  0.02501397 -0.0350865\n",
      "  -0.22285968  0.21823243]\n",
      " [-0.01350033  0.02299279  0.09188896 -0.12590443 -0.0503539   0.08377299\n",
      "   0.01594743 -0.02501017 -0.00890123  0.01135693  0.0322038  -0.03480985\n",
      "  -0.03037948  0.04825657 -0.02128078  0.02964544  0.00339033 -0.00331536\n",
      "  -0.0070373   0.01022699  0.18096499 -0.21043168 -0.07564756  0.0831822\n",
      "  -0.00291008  0.00418641  0.00134049 -0.00096533 -0.22813453  0.24260074\n",
      "   0.12088723 -0.20262212 -0.02715482  0.04244495 -0.15314957  0.23515623\n",
      "  -0.0167906   0.01533587  0.03037921 -0.04311349  0.07820314 -0.08550478\n",
      "  -0.27948281  0.29040158 -0.20049028  0.2188406   0.21150469 -0.22579278\n",
      "   0.34594083 -0.37031381]]\n",
      "explained variance ratio : [0.24167461 0.14045954 0.09019771 0.08306251 0.07120961]\n"
     ]
    }
   ],
   "source": [
    "pca = PCA(n_components=5)\n",
    "pca.fit(swing_df)\n",
    "print('singular value :', pca.singular_values_)\n",
    "print('singular vector :\\n', pca.components_)\n",
    "print('explained variance ratio :', pca.explained_variance_ratio_)"
   ]
  },
  {
   "cell_type": "markdown",
   "metadata": {},
   "source": [
    "# Test 03"
   ]
  },
  {
   "cell_type": "code",
   "execution_count": 46,
   "metadata": {},
   "outputs": [
    {
     "data": {
      "text/html": [
       "<div>\n",
       "<style scoped>\n",
       "    .dataframe tbody tr th:only-of-type {\n",
       "        vertical-align: middle;\n",
       "    }\n",
       "\n",
       "    .dataframe tbody tr th {\n",
       "        vertical-align: top;\n",
       "    }\n",
       "\n",
       "    .dataframe thead th {\n",
       "        text-align: right;\n",
       "    }\n",
       "</style>\n",
       "<table border=\"1\" class=\"dataframe\">\n",
       "  <thead>\n",
       "    <tr style=\"text-align: right;\">\n",
       "      <th></th>\n",
       "      <th>1</th>\n",
       "      <th>2</th>\n",
       "      <th>3</th>\n",
       "      <th>4</th>\n",
       "      <th>5</th>\n",
       "      <th>6</th>\n",
       "      <th>7</th>\n",
       "      <th>8</th>\n",
       "      <th>9</th>\n",
       "      <th>10</th>\n",
       "      <th>...</th>\n",
       "      <th>41</th>\n",
       "      <th>42</th>\n",
       "      <th>43</th>\n",
       "      <th>44</th>\n",
       "      <th>45</th>\n",
       "      <th>46</th>\n",
       "      <th>47</th>\n",
       "      <th>48</th>\n",
       "      <th>49</th>\n",
       "      <th>50</th>\n",
       "    </tr>\n",
       "  </thead>\n",
       "  <tbody>\n",
       "    <tr>\n",
       "      <th>0</th>\n",
       "      <td>0.910588</td>\n",
       "      <td>0.413316</td>\n",
       "      <td>0.892566</td>\n",
       "      <td>0.450916</td>\n",
       "      <td>0.891278</td>\n",
       "      <td>0.453457</td>\n",
       "      <td>0.808008</td>\n",
       "      <td>0.589172</td>\n",
       "      <td>0.808008</td>\n",
       "      <td>0.589172</td>\n",
       "      <td>...</td>\n",
       "      <td>0.684987</td>\n",
       "      <td>0.728555</td>\n",
       "      <td>0.697488</td>\n",
       "      <td>0.716597</td>\n",
       "      <td>0.680921</td>\n",
       "      <td>0.732357</td>\n",
       "      <td>0.808008</td>\n",
       "      <td>0.589172</td>\n",
       "      <td>0.713024</td>\n",
       "      <td>0.701140</td>\n",
       "    </tr>\n",
       "    <tr>\n",
       "      <th>1</th>\n",
       "      <td>0.910588</td>\n",
       "      <td>0.413316</td>\n",
       "      <td>0.895041</td>\n",
       "      <td>0.445983</td>\n",
       "      <td>0.891918</td>\n",
       "      <td>0.452196</td>\n",
       "      <td>0.806672</td>\n",
       "      <td>0.590999</td>\n",
       "      <td>0.806672</td>\n",
       "      <td>0.590999</td>\n",
       "      <td>...</td>\n",
       "      <td>0.683780</td>\n",
       "      <td>0.729688</td>\n",
       "      <td>0.698683</td>\n",
       "      <td>0.715432</td>\n",
       "      <td>0.680921</td>\n",
       "      <td>0.732357</td>\n",
       "      <td>0.806672</td>\n",
       "      <td>0.590999</td>\n",
       "      <td>0.806672</td>\n",
       "      <td>0.590999</td>\n",
       "    </tr>\n",
       "    <tr>\n",
       "      <th>2</th>\n",
       "      <td>0.911137</td>\n",
       "      <td>0.412104</td>\n",
       "      <td>0.893808</td>\n",
       "      <td>0.448450</td>\n",
       "      <td>0.891918</td>\n",
       "      <td>0.452196</td>\n",
       "      <td>0.808008</td>\n",
       "      <td>0.589172</td>\n",
       "      <td>0.808008</td>\n",
       "      <td>0.589172</td>\n",
       "      <td>...</td>\n",
       "      <td>0.685064</td>\n",
       "      <td>0.728483</td>\n",
       "      <td>0.697488</td>\n",
       "      <td>0.716597</td>\n",
       "      <td>0.679701</td>\n",
       "      <td>0.733490</td>\n",
       "      <td>0.808008</td>\n",
       "      <td>0.589172</td>\n",
       "      <td>0.711852</td>\n",
       "      <td>0.702329</td>\n",
       "    </tr>\n",
       "    <tr>\n",
       "      <th>3</th>\n",
       "      <td>0.907098</td>\n",
       "      <td>0.420920</td>\n",
       "      <td>0.892566</td>\n",
       "      <td>0.450916</td>\n",
       "      <td>0.890012</td>\n",
       "      <td>0.455936</td>\n",
       "      <td>0.806672</td>\n",
       "      <td>0.590999</td>\n",
       "      <td>0.806672</td>\n",
       "      <td>0.590999</td>\n",
       "      <td>...</td>\n",
       "      <td>0.683780</td>\n",
       "      <td>0.729688</td>\n",
       "      <td>0.696258</td>\n",
       "      <td>0.717792</td>\n",
       "      <td>0.679701</td>\n",
       "      <td>0.733490</td>\n",
       "      <td>0.806672</td>\n",
       "      <td>0.590999</td>\n",
       "      <td>0.711852</td>\n",
       "      <td>0.702329</td>\n",
       "    </tr>\n",
       "    <tr>\n",
       "      <th>4</th>\n",
       "      <td>0.906517</td>\n",
       "      <td>0.422169</td>\n",
       "      <td>0.891322</td>\n",
       "      <td>0.453371</td>\n",
       "      <td>0.889361</td>\n",
       "      <td>0.457206</td>\n",
       "      <td>0.806672</td>\n",
       "      <td>0.590999</td>\n",
       "      <td>0.806672</td>\n",
       "      <td>0.590999</td>\n",
       "      <td>...</td>\n",
       "      <td>0.682491</td>\n",
       "      <td>0.730894</td>\n",
       "      <td>0.696258</td>\n",
       "      <td>0.717792</td>\n",
       "      <td>0.679701</td>\n",
       "      <td>0.733490</td>\n",
       "      <td>0.806672</td>\n",
       "      <td>0.590999</td>\n",
       "      <td>0.710675</td>\n",
       "      <td>0.703521</td>\n",
       "    </tr>\n",
       "  </tbody>\n",
       "</table>\n",
       "<p>5 rows × 50 columns</p>\n",
       "</div>"
      ],
      "text/plain": [
       "         1         2         3         4         5         6         7   \\\n",
       "0  0.910588  0.413316  0.892566  0.450916  0.891278  0.453457  0.808008   \n",
       "1  0.910588  0.413316  0.895041  0.445983  0.891918  0.452196  0.806672   \n",
       "2  0.911137  0.412104  0.893808  0.448450  0.891918  0.452196  0.808008   \n",
       "3  0.907098  0.420920  0.892566  0.450916  0.890012  0.455936  0.806672   \n",
       "4  0.906517  0.422169  0.891322  0.453371  0.889361  0.457206  0.806672   \n",
       "\n",
       "         8         9         10  ...        41        42        43        44  \\\n",
       "0  0.589172  0.808008  0.589172  ...  0.684987  0.728555  0.697488  0.716597   \n",
       "1  0.590999  0.806672  0.590999  ...  0.683780  0.729688  0.698683  0.715432   \n",
       "2  0.589172  0.808008  0.589172  ...  0.685064  0.728483  0.697488  0.716597   \n",
       "3  0.590999  0.806672  0.590999  ...  0.683780  0.729688  0.696258  0.717792   \n",
       "4  0.590999  0.806672  0.590999  ...  0.682491  0.730894  0.696258  0.717792   \n",
       "\n",
       "         45        46        47        48        49        50  \n",
       "0  0.680921  0.732357  0.808008  0.589172  0.713024  0.701140  \n",
       "1  0.680921  0.732357  0.806672  0.590999  0.806672  0.590999  \n",
       "2  0.679701  0.733490  0.808008  0.589172  0.711852  0.702329  \n",
       "3  0.679701  0.733490  0.806672  0.590999  0.711852  0.702329  \n",
       "4  0.679701  0.733490  0.806672  0.590999  0.710675  0.703521  \n",
       "\n",
       "[5 rows x 50 columns]"
      ]
     },
     "execution_count": 46,
     "metadata": {},
     "output_type": "execute_result"
    }
   ],
   "source": [
    "df.head()"
   ]
  },
  {
   "cell_type": "code",
   "execution_count": 88,
   "metadata": {},
   "outputs": [
    {
     "data": {
      "text/plain": [
       "<matplotlib.collections.PathCollection at 0x26fa1227550>"
      ]
     },
     "execution_count": 88,
     "metadata": {},
     "output_type": "execute_result"
    },
    {
     "data": {
      "image/png": "[encoded data removed]",
      "text/plain": [
       "<Figure size 720x720 with 4 Axes>"
      ]
     },
     "metadata": {
      "needs_background": "light"
     },
     "output_type": "display_data"
    }
   ],
   "source": [
    "plt.figure(figsize=(10,10))\n",
    "# Right shoulder\n",
    "plt.subplot(221)\n",
    "plt.scatter([i for i in range(800)], df[5][0:800], c='blue')\n",
    "plt.scatter([i for i in range(214,255)], df[5][214:255], c='red')\n",
    "plt.scatter([i for i in range(686,699)], df[5][686:699], c='red')\n",
    "# Right shoulder\n",
    "plt.subplot(222)\n",
    "plt.scatter([i for i in range(800)], df[6][0:800], c='blue')\n",
    "plt.scatter([i for i in range(214,255)], df[6][214:255], c='red')\n",
    "plt.scatter([i for i in range(686,699)], df[6][686:699], c='red')\n",
    "# Right elbow\n",
    "plt.subplot(223)\n",
    "plt.scatter([i for i in range(800)], df[7][0:800], c='blue')\n",
    "plt.scatter([i for i in range(214,255)], df[7][214:255], c='red')\n",
    "plt.scatter([i for i in range(686,699)], df[7][686:699], c='red')\n",
    "# Right elbow\n",
    "plt.subplot(224)\n",
    "plt.scatter([i for i in range(800)], df[8][0:800], c='blue')\n",
    "plt.scatter([i for i in range(214,255)], df[8][214:255], c='red')\n",
    "plt.scatter([i for i in range(686,699)], df[8][686:699], c='red')"
   ]
  },
  {
   "cell_type": "code",
   "execution_count": 89,
   "metadata": {},
   "outputs": [
    {
     "data": {
      "text/plain": [
       "<matplotlib.collections.PathCollection at 0x26fa1383630>"
      ]
     },
     "execution_count": 89,
     "metadata": {},
     "output_type": "execute_result"
    },
    {
     "data": {
      "image/png": "[encoded data removed]",
      "text/plain": [
       "<Figure size 720x720 with 4 Axes>"
      ]
     },
     "metadata": {
      "needs_background": "light"
     },
     "output_type": "display_data"
    }
   ],
   "source": [
    "plt.figure(figsize=(10,10))\n",
    "# Left shoulder\n",
    "plt.subplot(221)\n",
    "plt.scatter([i for i in range(800)], df[11][0:800], c='blue')\n",
    "plt.scatter([i for i in range(214,255)], df[11][214:255], c='red')\n",
    "plt.scatter([i for i in range(686,699)], df[11][686:699], c='red')\n",
    "# Left shoulder\n",
    "plt.subplot(222)\n",
    "plt.scatter([i for i in range(800)], df[12][0:800], c='blue')\n",
    "plt.scatter([i for i in range(214,255)], df[12][214:255], c='red')\n",
    "plt.scatter([i for i in range(686,699)], df[12][686:699], c='red')\n",
    "# Left elbow\n",
    "plt.subplot(223)\n",
    "plt.scatter([i for i in range(800)], df[13][0:800], c='blue')\n",
    "plt.scatter([i for i in range(214,255)], df[13][214:255], c='red')\n",
    "plt.scatter([i for i in range(686,699)], df[13][686:699], c='red')\n",
    "# Left elbow\n",
    "plt.subplot(224)\n",
    "plt.scatter([i for i in range(800)], df[14][0:800], c='blue')\n",
    "plt.scatter([i for i in range(214,255)], df[14][214:255], c='red')\n",
    "plt.scatter([i for i in range(686,699)], df[14][686:699], c='red')"
   ]
  },
  {
   "cell_type": "markdown",
   "metadata": {},
   "source": [
    "# Test 04"
   ]
  },
  {
   "cell_type": "code",
   "execution_count": 90,
   "metadata": {},
   "outputs": [
    {
     "data": {
      "text/html": [
       "<div>\n",
       "<style scoped>\n",
       "    .dataframe tbody tr th:only-of-type {\n",
       "        vertical-align: middle;\n",
       "    }\n",
       "\n",
       "    .dataframe tbody tr th {\n",
       "        vertical-align: top;\n",
       "    }\n",
       "\n",
       "    .dataframe thead th {\n",
       "        text-align: right;\n",
       "    }\n",
       "</style>\n",
       "<table border=\"1\" class=\"dataframe\">\n",
       "  <thead>\n",
       "    <tr style=\"text-align: right;\">\n",
       "      <th></th>\n",
       "      <th>5</th>\n",
       "      <th>6</th>\n",
       "      <th>7</th>\n",
       "      <th>8</th>\n",
       "      <th>11</th>\n",
       "      <th>12</th>\n",
       "      <th>13</th>\n",
       "      <th>14</th>\n",
       "    </tr>\n",
       "  </thead>\n",
       "  <tbody>\n",
       "    <tr>\n",
       "      <th>0</th>\n",
       "      <td>0.891278</td>\n",
       "      <td>0.453457</td>\n",
       "      <td>0.808008</td>\n",
       "      <td>0.589172</td>\n",
       "      <td>0.892566</td>\n",
       "      <td>0.450916</td>\n",
       "      <td>0.808008</td>\n",
       "      <td>0.589172</td>\n",
       "    </tr>\n",
       "    <tr>\n",
       "      <th>1</th>\n",
       "      <td>0.891918</td>\n",
       "      <td>0.452196</td>\n",
       "      <td>0.806672</td>\n",
       "      <td>0.590999</td>\n",
       "      <td>0.895041</td>\n",
       "      <td>0.445983</td>\n",
       "      <td>0.806672</td>\n",
       "      <td>0.590999</td>\n",
       "    </tr>\n",
       "    <tr>\n",
       "      <th>2</th>\n",
       "      <td>0.891918</td>\n",
       "      <td>0.452196</td>\n",
       "      <td>0.808008</td>\n",
       "      <td>0.589172</td>\n",
       "      <td>0.893808</td>\n",
       "      <td>0.448450</td>\n",
       "      <td>0.808008</td>\n",
       "      <td>0.589172</td>\n",
       "    </tr>\n",
       "    <tr>\n",
       "      <th>3</th>\n",
       "      <td>0.890012</td>\n",
       "      <td>0.455936</td>\n",
       "      <td>0.806672</td>\n",
       "      <td>0.590999</td>\n",
       "      <td>0.892566</td>\n",
       "      <td>0.450916</td>\n",
       "      <td>0.854495</td>\n",
       "      <td>0.519459</td>\n",
       "    </tr>\n",
       "    <tr>\n",
       "      <th>4</th>\n",
       "      <td>0.889361</td>\n",
       "      <td>0.457206</td>\n",
       "      <td>0.806672</td>\n",
       "      <td>0.590999</td>\n",
       "      <td>0.889361</td>\n",
       "      <td>0.457206</td>\n",
       "      <td>0.851763</td>\n",
       "      <td>0.523926</td>\n",
       "    </tr>\n",
       "  </tbody>\n",
       "</table>\n",
       "</div>"
      ],
      "text/plain": [
       "         5         6         7         8         11        12        13  \\\n",
       "0  0.891278  0.453457  0.808008  0.589172  0.892566  0.450916  0.808008   \n",
       "1  0.891918  0.452196  0.806672  0.590999  0.895041  0.445983  0.806672   \n",
       "2  0.891918  0.452196  0.808008  0.589172  0.893808  0.448450  0.808008   \n",
       "3  0.890012  0.455936  0.806672  0.590999  0.892566  0.450916  0.854495   \n",
       "4  0.889361  0.457206  0.806672  0.590999  0.889361  0.457206  0.851763   \n",
       "\n",
       "         14  \n",
       "0  0.589172  \n",
       "1  0.590999  \n",
       "2  0.589172  \n",
       "3  0.519459  \n",
       "4  0.523926  "
      ]
     },
     "execution_count": 90,
     "metadata": {},
     "output_type": "execute_result"
    }
   ],
   "source": [
    "arm_df = df[[6,8,12,13,14]][0:800]\n",
    "arm_df.head()"
   ]
  },
  {
   "cell_type": "code",
   "execution_count": 92,
   "metadata": {},
   "outputs": [
    {
     "name": "stdout",
     "output_type": "stream",
     "text": [
      "singular value : [3.03933507]\n",
      "singular vector :\n",
      " [[-0.30243637  0.42732598 -0.27603788  0.31775258 -0.30604221  0.44163171\n",
      "  -0.32460253  0.3933115 ]]\n",
      "explained variance ratio : [0.62097241]\n"
     ]
    }
   ],
   "source": [
    "pca = PCA(n_components=1)\n",
    "pca.fit(arm_df)\n",
    "print('singular value :', pca.singular_values_)\n",
    "print('singular vector :\\n', pca.components_)\n",
    "print('explained variance ratio :', pca.explained_variance_ratio_)"
   ]
  },
  {
   "cell_type": "code",
   "execution_count": 93,
   "metadata": {},
   "outputs": [
    {
     "data": {
      "text/plain": [
       "<matplotlib.collections.PathCollection at 0x26fa15acd30>"
      ]
     },
     "execution_count": 93,
     "metadata": {},
     "output_type": "execute_result"
    },
    {
     "data": {
      "image/png": "[encoded data removed]",
      "text/plain": [
       "<Figure size 432x288 with 1 Axes>"
      ]
     },
     "metadata": {
      "needs_background": "light"
     },
     "output_type": "display_data"
    }
   ],
   "source": [
    "plt.figure()\n",
    "plt.scatter([i for i in range(800)], pca.fit_transform(arm_df))"
   ]
  },
  {
   "cell_type": "code",
   "execution_count": 94,
   "metadata": {},
   "outputs": [
    {
     "data": {
      "text/plain": [
       "<matplotlib.collections.PathCollection at 0x26fa1902be0>"
      ]
     },
     "execution_count": 94,
     "metadata": {},
     "output_type": "execute_result"
    },
    {
     "data": {
      "image/png": "[encoded data removed]",
      "text/plain": [
       "<Figure size 432x288 with 1 Axes>"
      ]
     },
     "metadata": {
      "needs_background": "light"
     },
     "output_type": "display_data"
    }
   ],
   "source": [
    "plt.figure()\n",
    "plt.scatter([i for i in range(800)], pca.fit_transform(arm_df), c='blue')\n",
    "plt.scatter([i for i in range(214,255)], pca.fit_transform(arm_df)[214:255], c='red')\n",
    "plt.scatter([i for i in range(686,699)], pca.fit_transform(arm_df)[686:699], c='red')"
   ]
  },
  {
   "cell_type": "code",
   "execution_count": 73,
   "metadata": {},
   "outputs": [
    {
     "data": {
      "text/plain": [
       "<matplotlib.collections.PathCollection at 0x26f9ff71b70>"
      ]
     },
     "execution_count": 73,
     "metadata": {},
     "output_type": "execute_result"
    },
    {
     "data": {
      "image/png": "[encoded data removed]",
      "text/plain": [
       "<Figure size 432x288 with 1 Axes>"
      ]
     },
     "metadata": {
      "needs_background": "light"
     },
     "output_type": "display_data"
    }
   ],
   "source": [
    "plt.figure()\n",
    "plt.scatter(pca.fit_transform(arm_df)[:,0], pca.fit_transform(arm_df)[:,1],c='blue')\n",
    "plt.scatter(pca.fit_transform(arm_df)[214:255,0], pca.fit_transform(arm_df)[214:255,1],c='red')\n",
    "plt.scatter(pca.fit_transform(arm_df)[686:699,0], pca.fit_transform(arm_df)[686:699,1],c='red')"
   ]
  },
  {
   "cell_type": "markdown",
   "metadata": {},
   "source": [
    "연습코드"
   ]
  },
  {
   "cell_type": "code",
   "execution_count": 39,
   "metadata": {
    "scrolled": true
   },
   "outputs": [
    {
     "data": {
      "text/plain": [
       "array([[-0.17546789,  0.19322167, -0.08347893,  0.08812955],\n",
       "       [-0.19079363,  0.15110444, -0.07316283,  0.09718253]])"
      ]
     },
     "execution_count": 39,
     "metadata": {},
     "output_type": "execute_result"
    },
    {
     "data": {
      "image/png": "[encoded data removed]",
      "text/plain": [
       "<Figure size 432x288 with 1 Axes>"
      ]
     },
     "metadata": {
      "needs_background": "light"
     },
     "output_type": "display_data"
    }
   ],
   "source": [
    "%matplotlib inline\n",
    "import matplotlib.pyplot as plt\n",
    "plt.figure()\n",
    "plt.scatter(pca.fit_transform(df)[0], pca.fit_transform(df)[1])\n",
    "pca.fit_transform(df)[0:2]"
   ]
  },
  {
   "cell_type": "code",
   "execution_count": null,
   "metadata": {},
   "outputs": [],
   "source": [
    "plt.figure()\n",
    "for i in range(len(df)):\n",
    "    "
   ]
  },
  {
   "cell_type": "code",
   "execution_count": 40,
   "metadata": {},
   "outputs": [
    {
     "data": {
      "text/html": [
       "<div>\n",
       "<style scoped>\n",
       "    .dataframe tbody tr th:only-of-type {\n",
       "        vertical-align: middle;\n",
       "    }\n",
       "\n",
       "    .dataframe tbody tr th {\n",
       "        vertical-align: top;\n",
       "    }\n",
       "\n",
       "    .dataframe thead th {\n",
       "        text-align: right;\n",
       "    }\n",
       "</style>\n",
       "<table border=\"1\" class=\"dataframe\">\n",
       "  <thead>\n",
       "    <tr style=\"text-align: right;\">\n",
       "      <th></th>\n",
       "      <th>0</th>\n",
       "      <th>1</th>\n",
       "      <th>2</th>\n",
       "      <th>3</th>\n",
       "      <th>4</th>\n",
       "    </tr>\n",
       "  </thead>\n",
       "  <tbody>\n",
       "    <tr>\n",
       "      <th>4</th>\n",
       "      <td>-0.110623</td>\n",
       "      <td>-0.116034</td>\n",
       "      <td>-0.175790</td>\n",
       "      <td>-0.177046</td>\n",
       "      <td>-0.122972</td>\n",
       "    </tr>\n",
       "    <tr>\n",
       "      <th>5</th>\n",
       "      <td>-0.116034</td>\n",
       "      <td>-0.175790</td>\n",
       "      <td>-0.177046</td>\n",
       "      <td>-0.122972</td>\n",
       "      <td>-0.150217</td>\n",
       "    </tr>\n",
       "    <tr>\n",
       "      <th>6</th>\n",
       "      <td>-0.175790</td>\n",
       "      <td>-0.177046</td>\n",
       "      <td>-0.122972</td>\n",
       "      <td>-0.150217</td>\n",
       "      <td>-0.227005</td>\n",
       "    </tr>\n",
       "    <tr>\n",
       "      <th>7</th>\n",
       "      <td>-0.177046</td>\n",
       "      <td>-0.122972</td>\n",
       "      <td>-0.150217</td>\n",
       "      <td>-0.227005</td>\n",
       "      <td>-0.238931</td>\n",
       "    </tr>\n",
       "    <tr>\n",
       "      <th>8</th>\n",
       "      <td>-0.122972</td>\n",
       "      <td>-0.150217</td>\n",
       "      <td>-0.227005</td>\n",
       "      <td>-0.238931</td>\n",
       "      <td>-0.195897</td>\n",
       "    </tr>\n",
       "    <tr>\n",
       "      <th>9</th>\n",
       "      <td>-0.150217</td>\n",
       "      <td>-0.227005</td>\n",
       "      <td>-0.238931</td>\n",
       "      <td>-0.195897</td>\n",
       "      <td>-0.146276</td>\n",
       "    </tr>\n",
       "    <tr>\n",
       "      <th>10</th>\n",
       "      <td>-0.227005</td>\n",
       "      <td>-0.238931</td>\n",
       "      <td>-0.195897</td>\n",
       "      <td>-0.146276</td>\n",
       "      <td>-0.263719</td>\n",
       "    </tr>\n",
       "    <tr>\n",
       "      <th>11</th>\n",
       "      <td>-0.238931</td>\n",
       "      <td>-0.195897</td>\n",
       "      <td>-0.146276</td>\n",
       "      <td>-0.263719</td>\n",
       "      <td>-0.234054</td>\n",
       "    </tr>\n",
       "    <tr>\n",
       "      <th>12</th>\n",
       "      <td>-0.195897</td>\n",
       "      <td>-0.146276</td>\n",
       "      <td>-0.263719</td>\n",
       "      <td>-0.234054</td>\n",
       "      <td>-0.296460</td>\n",
       "    </tr>\n",
       "    <tr>\n",
       "      <th>13</th>\n",
       "      <td>-0.146276</td>\n",
       "      <td>-0.263719</td>\n",
       "      <td>-0.234054</td>\n",
       "      <td>-0.296460</td>\n",
       "      <td>-0.298076</td>\n",
       "    </tr>\n",
       "    <tr>\n",
       "      <th>14</th>\n",
       "      <td>-0.263719</td>\n",
       "      <td>-0.234054</td>\n",
       "      <td>-0.296460</td>\n",
       "      <td>-0.298076</td>\n",
       "      <td>-0.235123</td>\n",
       "    </tr>\n",
       "    <tr>\n",
       "      <th>15</th>\n",
       "      <td>-0.234054</td>\n",
       "      <td>-0.296460</td>\n",
       "      <td>-0.298076</td>\n",
       "      <td>-0.235123</td>\n",
       "      <td>-0.341159</td>\n",
       "    </tr>\n",
       "    <tr>\n",
       "      <th>16</th>\n",
       "      <td>-0.296460</td>\n",
       "      <td>-0.298076</td>\n",
       "      <td>-0.235123</td>\n",
       "      <td>-0.341159</td>\n",
       "      <td>-0.453503</td>\n",
       "    </tr>\n",
       "    <tr>\n",
       "      <th>17</th>\n",
       "      <td>-0.298076</td>\n",
       "      <td>-0.235123</td>\n",
       "      <td>-0.341159</td>\n",
       "      <td>-0.453503</td>\n",
       "      <td>-0.434434</td>\n",
       "    </tr>\n",
       "    <tr>\n",
       "      <th>18</th>\n",
       "      <td>-0.235123</td>\n",
       "      <td>-0.341159</td>\n",
       "      <td>-0.453503</td>\n",
       "      <td>-0.434434</td>\n",
       "      <td>-0.345110</td>\n",
       "    </tr>\n",
       "    <tr>\n",
       "      <th>19</th>\n",
       "      <td>-0.341159</td>\n",
       "      <td>-0.453503</td>\n",
       "      <td>-0.434434</td>\n",
       "      <td>-0.345110</td>\n",
       "      <td>-0.404486</td>\n",
       "    </tr>\n",
       "    <tr>\n",
       "      <th>20</th>\n",
       "      <td>-0.453503</td>\n",
       "      <td>-0.434434</td>\n",
       "      <td>-0.345110</td>\n",
       "      <td>-0.404486</td>\n",
       "      <td>-0.439567</td>\n",
       "    </tr>\n",
       "    <tr>\n",
       "      <th>21</th>\n",
       "      <td>-0.434434</td>\n",
       "      <td>-0.345110</td>\n",
       "      <td>-0.404486</td>\n",
       "      <td>-0.439567</td>\n",
       "      <td>-0.520177</td>\n",
       "    </tr>\n",
       "    <tr>\n",
       "      <th>22</th>\n",
       "      <td>-0.345110</td>\n",
       "      <td>-0.404486</td>\n",
       "      <td>-0.439567</td>\n",
       "      <td>-0.520177</td>\n",
       "      <td>-0.522536</td>\n",
       "    </tr>\n",
       "    <tr>\n",
       "      <th>23</th>\n",
       "      <td>-0.404486</td>\n",
       "      <td>-0.439567</td>\n",
       "      <td>-0.520177</td>\n",
       "      <td>-0.522536</td>\n",
       "      <td>-0.522889</td>\n",
       "    </tr>\n",
       "    <tr>\n",
       "      <th>24</th>\n",
       "      <td>-0.439567</td>\n",
       "      <td>-0.520177</td>\n",
       "      <td>-0.522536</td>\n",
       "      <td>-0.522889</td>\n",
       "      <td>-0.520563</td>\n",
       "    </tr>\n",
       "    <tr>\n",
       "      <th>25</th>\n",
       "      <td>-0.520177</td>\n",
       "      <td>-0.522536</td>\n",
       "      <td>-0.522889</td>\n",
       "      <td>-0.520563</td>\n",
       "      <td>-0.538449</td>\n",
       "    </tr>\n",
       "    <tr>\n",
       "      <th>26</th>\n",
       "      <td>-0.522536</td>\n",
       "      <td>-0.522889</td>\n",
       "      <td>-0.520563</td>\n",
       "      <td>-0.538449</td>\n",
       "      <td>-0.512451</td>\n",
       "    </tr>\n",
       "    <tr>\n",
       "      <th>27</th>\n",
       "      <td>-0.522889</td>\n",
       "      <td>-0.520563</td>\n",
       "      <td>-0.538449</td>\n",
       "      <td>-0.512451</td>\n",
       "      <td>-0.524318</td>\n",
       "    </tr>\n",
       "    <tr>\n",
       "      <th>28</th>\n",
       "      <td>-0.520563</td>\n",
       "      <td>-0.538449</td>\n",
       "      <td>-0.512451</td>\n",
       "      <td>-0.524318</td>\n",
       "      <td>-0.499692</td>\n",
       "    </tr>\n",
       "    <tr>\n",
       "      <th>29</th>\n",
       "      <td>-0.538449</td>\n",
       "      <td>-0.512451</td>\n",
       "      <td>-0.524318</td>\n",
       "      <td>-0.499692</td>\n",
       "      <td>-0.467632</td>\n",
       "    </tr>\n",
       "    <tr>\n",
       "      <th>30</th>\n",
       "      <td>-0.512451</td>\n",
       "      <td>-0.524318</td>\n",
       "      <td>-0.499692</td>\n",
       "      <td>-0.467632</td>\n",
       "      <td>-0.493684</td>\n",
       "    </tr>\n",
       "    <tr>\n",
       "      <th>31</th>\n",
       "      <td>-0.524318</td>\n",
       "      <td>-0.499692</td>\n",
       "      <td>-0.467632</td>\n",
       "      <td>-0.493684</td>\n",
       "      <td>-0.487606</td>\n",
       "    </tr>\n",
       "    <tr>\n",
       "      <th>32</th>\n",
       "      <td>-0.499692</td>\n",
       "      <td>-0.467632</td>\n",
       "      <td>-0.493684</td>\n",
       "      <td>-0.487606</td>\n",
       "      <td>-0.505671</td>\n",
       "    </tr>\n",
       "    <tr>\n",
       "      <th>33</th>\n",
       "      <td>-0.467632</td>\n",
       "      <td>-0.493684</td>\n",
       "      <td>-0.487606</td>\n",
       "      <td>-0.505671</td>\n",
       "      <td>-0.523925</td>\n",
       "    </tr>\n",
       "    <tr>\n",
       "      <th>...</th>\n",
       "      <td>...</td>\n",
       "      <td>...</td>\n",
       "      <td>...</td>\n",
       "      <td>...</td>\n",
       "      <td>...</td>\n",
       "    </tr>\n",
       "    <tr>\n",
       "      <th>1180</th>\n",
       "      <td>0.672448</td>\n",
       "      <td>0.672448</td>\n",
       "      <td>0.672448</td>\n",
       "      <td>0.672448</td>\n",
       "      <td>0.672448</td>\n",
       "    </tr>\n",
       "    <tr>\n",
       "      <th>1181</th>\n",
       "      <td>0.672448</td>\n",
       "      <td>0.672448</td>\n",
       "      <td>0.672448</td>\n",
       "      <td>0.672448</td>\n",
       "      <td>0.672448</td>\n",
       "    </tr>\n",
       "    <tr>\n",
       "      <th>1182</th>\n",
       "      <td>0.672448</td>\n",
       "      <td>0.672448</td>\n",
       "      <td>0.672448</td>\n",
       "      <td>0.672448</td>\n",
       "      <td>0.672448</td>\n",
       "    </tr>\n",
       "    <tr>\n",
       "      <th>1183</th>\n",
       "      <td>0.672448</td>\n",
       "      <td>0.672448</td>\n",
       "      <td>0.672448</td>\n",
       "      <td>0.672448</td>\n",
       "      <td>0.672448</td>\n",
       "    </tr>\n",
       "    <tr>\n",
       "      <th>1184</th>\n",
       "      <td>0.672448</td>\n",
       "      <td>0.672448</td>\n",
       "      <td>0.672448</td>\n",
       "      <td>0.672448</td>\n",
       "      <td>0.672448</td>\n",
       "    </tr>\n",
       "    <tr>\n",
       "      <th>1185</th>\n",
       "      <td>0.672448</td>\n",
       "      <td>0.672448</td>\n",
       "      <td>0.672448</td>\n",
       "      <td>0.672448</td>\n",
       "      <td>0.672448</td>\n",
       "    </tr>\n",
       "    <tr>\n",
       "      <th>1186</th>\n",
       "      <td>0.672448</td>\n",
       "      <td>0.672448</td>\n",
       "      <td>0.672448</td>\n",
       "      <td>0.672448</td>\n",
       "      <td>0.672448</td>\n",
       "    </tr>\n",
       "    <tr>\n",
       "      <th>1187</th>\n",
       "      <td>0.672448</td>\n",
       "      <td>0.672448</td>\n",
       "      <td>0.672448</td>\n",
       "      <td>0.672448</td>\n",
       "      <td>0.672448</td>\n",
       "    </tr>\n",
       "    <tr>\n",
       "      <th>1188</th>\n",
       "      <td>0.672448</td>\n",
       "      <td>0.672448</td>\n",
       "      <td>0.672448</td>\n",
       "      <td>0.672448</td>\n",
       "      <td>0.672448</td>\n",
       "    </tr>\n",
       "    <tr>\n",
       "      <th>1189</th>\n",
       "      <td>0.672448</td>\n",
       "      <td>0.672448</td>\n",
       "      <td>0.672448</td>\n",
       "      <td>0.672448</td>\n",
       "      <td>0.672448</td>\n",
       "    </tr>\n",
       "    <tr>\n",
       "      <th>1190</th>\n",
       "      <td>0.672448</td>\n",
       "      <td>0.672448</td>\n",
       "      <td>0.672448</td>\n",
       "      <td>0.672448</td>\n",
       "      <td>0.672448</td>\n",
       "    </tr>\n",
       "    <tr>\n",
       "      <th>1191</th>\n",
       "      <td>0.672448</td>\n",
       "      <td>0.672448</td>\n",
       "      <td>0.672448</td>\n",
       "      <td>0.672448</td>\n",
       "      <td>0.672448</td>\n",
       "    </tr>\n",
       "    <tr>\n",
       "      <th>1192</th>\n",
       "      <td>0.672448</td>\n",
       "      <td>0.672448</td>\n",
       "      <td>0.672448</td>\n",
       "      <td>0.672448</td>\n",
       "      <td>0.672448</td>\n",
       "    </tr>\n",
       "    <tr>\n",
       "      <th>1193</th>\n",
       "      <td>0.672448</td>\n",
       "      <td>0.672448</td>\n",
       "      <td>0.672448</td>\n",
       "      <td>0.672448</td>\n",
       "      <td>0.672448</td>\n",
       "    </tr>\n",
       "    <tr>\n",
       "      <th>1194</th>\n",
       "      <td>0.672448</td>\n",
       "      <td>0.672448</td>\n",
       "      <td>0.672448</td>\n",
       "      <td>0.672448</td>\n",
       "      <td>0.672448</td>\n",
       "    </tr>\n",
       "    <tr>\n",
       "      <th>1195</th>\n",
       "      <td>0.672448</td>\n",
       "      <td>0.672448</td>\n",
       "      <td>0.672448</td>\n",
       "      <td>0.672448</td>\n",
       "      <td>0.672448</td>\n",
       "    </tr>\n",
       "    <tr>\n",
       "      <th>1196</th>\n",
       "      <td>0.672448</td>\n",
       "      <td>0.672448</td>\n",
       "      <td>0.672448</td>\n",
       "      <td>0.672448</td>\n",
       "      <td>0.672448</td>\n",
       "    </tr>\n",
       "    <tr>\n",
       "      <th>1197</th>\n",
       "      <td>0.672448</td>\n",
       "      <td>0.672448</td>\n",
       "      <td>0.672448</td>\n",
       "      <td>0.672448</td>\n",
       "      <td>0.672448</td>\n",
       "    </tr>\n",
       "    <tr>\n",
       "      <th>1198</th>\n",
       "      <td>0.672448</td>\n",
       "      <td>0.672448</td>\n",
       "      <td>0.672448</td>\n",
       "      <td>0.672448</td>\n",
       "      <td>0.672448</td>\n",
       "    </tr>\n",
       "    <tr>\n",
       "      <th>1199</th>\n",
       "      <td>0.672448</td>\n",
       "      <td>0.672448</td>\n",
       "      <td>0.672448</td>\n",
       "      <td>0.672448</td>\n",
       "      <td>0.672448</td>\n",
       "    </tr>\n",
       "    <tr>\n",
       "      <th>1200</th>\n",
       "      <td>0.672448</td>\n",
       "      <td>0.672448</td>\n",
       "      <td>0.672448</td>\n",
       "      <td>0.672448</td>\n",
       "      <td>0.672448</td>\n",
       "    </tr>\n",
       "    <tr>\n",
       "      <th>1201</th>\n",
       "      <td>0.672448</td>\n",
       "      <td>0.672448</td>\n",
       "      <td>0.672448</td>\n",
       "      <td>0.672448</td>\n",
       "      <td>0.672448</td>\n",
       "    </tr>\n",
       "    <tr>\n",
       "      <th>1202</th>\n",
       "      <td>0.672448</td>\n",
       "      <td>0.672448</td>\n",
       "      <td>0.672448</td>\n",
       "      <td>0.672448</td>\n",
       "      <td>0.672448</td>\n",
       "    </tr>\n",
       "    <tr>\n",
       "      <th>1203</th>\n",
       "      <td>0.672448</td>\n",
       "      <td>0.672448</td>\n",
       "      <td>0.672448</td>\n",
       "      <td>0.672448</td>\n",
       "      <td>0.672448</td>\n",
       "    </tr>\n",
       "    <tr>\n",
       "      <th>1204</th>\n",
       "      <td>0.672448</td>\n",
       "      <td>0.672448</td>\n",
       "      <td>0.672448</td>\n",
       "      <td>0.672448</td>\n",
       "      <td>0.672448</td>\n",
       "    </tr>\n",
       "    <tr>\n",
       "      <th>1205</th>\n",
       "      <td>0.672448</td>\n",
       "      <td>0.672448</td>\n",
       "      <td>0.672448</td>\n",
       "      <td>0.672448</td>\n",
       "      <td>0.672448</td>\n",
       "    </tr>\n",
       "    <tr>\n",
       "      <th>1206</th>\n",
       "      <td>0.672448</td>\n",
       "      <td>0.672448</td>\n",
       "      <td>0.672448</td>\n",
       "      <td>0.672448</td>\n",
       "      <td>0.672448</td>\n",
       "    </tr>\n",
       "    <tr>\n",
       "      <th>1207</th>\n",
       "      <td>0.672448</td>\n",
       "      <td>0.672448</td>\n",
       "      <td>0.672448</td>\n",
       "      <td>0.672448</td>\n",
       "      <td>0.672448</td>\n",
       "    </tr>\n",
       "    <tr>\n",
       "      <th>1208</th>\n",
       "      <td>0.672448</td>\n",
       "      <td>0.672448</td>\n",
       "      <td>0.672448</td>\n",
       "      <td>0.672448</td>\n",
       "      <td>0.672448</td>\n",
       "    </tr>\n",
       "    <tr>\n",
       "      <th>1209</th>\n",
       "      <td>0.672448</td>\n",
       "      <td>0.672448</td>\n",
       "      <td>0.672448</td>\n",
       "      <td>0.672448</td>\n",
       "      <td>0.672448</td>\n",
       "    </tr>\n",
       "  </tbody>\n",
       "</table>\n",
       "<p>1206 rows × 5 columns</p>\n",
       "</div>"
      ],
      "text/plain": [
       "             0         1         2         3         4\n",
       "4    -0.110623 -0.116034 -0.175790 -0.177046 -0.122972\n",
       "5    -0.116034 -0.175790 -0.177046 -0.122972 -0.150217\n",
       "6    -0.175790 -0.177046 -0.122972 -0.150217 -0.227005\n",
       "7    -0.177046 -0.122972 -0.150217 -0.227005 -0.238931\n",
       "8    -0.122972 -0.150217 -0.227005 -0.238931 -0.195897\n",
       "9    -0.150217 -0.227005 -0.238931 -0.195897 -0.146276\n",
       "10   -0.227005 -0.238931 -0.195897 -0.146276 -0.263719\n",
       "11   -0.238931 -0.195897 -0.146276 -0.263719 -0.234054\n",
       "12   -0.195897 -0.146276 -0.263719 -0.234054 -0.296460\n",
       "13   -0.146276 -0.263719 -0.234054 -0.296460 -0.298076\n",
       "14   -0.263719 -0.234054 -0.296460 -0.298076 -0.235123\n",
       "15   -0.234054 -0.296460 -0.298076 -0.235123 -0.341159\n",
       "16   -0.296460 -0.298076 -0.235123 -0.341159 -0.453503\n",
       "17   -0.298076 -0.235123 -0.341159 -0.453503 -0.434434\n",
       "18   -0.235123 -0.341159 -0.453503 -0.434434 -0.345110\n",
       "19   -0.341159 -0.453503 -0.434434 -0.345110 -0.404486\n",
       "20   -0.453503 -0.434434 -0.345110 -0.404486 -0.439567\n",
       "21   -0.434434 -0.345110 -0.404486 -0.439567 -0.520177\n",
       "22   -0.345110 -0.404486 -0.439567 -0.520177 -0.522536\n",
       "23   -0.404486 -0.439567 -0.520177 -0.522536 -0.522889\n",
       "24   -0.439567 -0.520177 -0.522536 -0.522889 -0.520563\n",
       "25   -0.520177 -0.522536 -0.522889 -0.520563 -0.538449\n",
       "26   -0.522536 -0.522889 -0.520563 -0.538449 -0.512451\n",
       "27   -0.522889 -0.520563 -0.538449 -0.512451 -0.524318\n",
       "28   -0.520563 -0.538449 -0.512451 -0.524318 -0.499692\n",
       "29   -0.538449 -0.512451 -0.524318 -0.499692 -0.467632\n",
       "30   -0.512451 -0.524318 -0.499692 -0.467632 -0.493684\n",
       "31   -0.524318 -0.499692 -0.467632 -0.493684 -0.487606\n",
       "32   -0.499692 -0.467632 -0.493684 -0.487606 -0.505671\n",
       "33   -0.467632 -0.493684 -0.487606 -0.505671 -0.523925\n",
       "...        ...       ...       ...       ...       ...\n",
       "1180  0.672448  0.672448  0.672448  0.672448  0.672448\n",
       "1181  0.672448  0.672448  0.672448  0.672448  0.672448\n",
       "1182  0.672448  0.672448  0.672448  0.672448  0.672448\n",
       "1183  0.672448  0.672448  0.672448  0.672448  0.672448\n",
       "1184  0.672448  0.672448  0.672448  0.672448  0.672448\n",
       "1185  0.672448  0.672448  0.672448  0.672448  0.672448\n",
       "1186  0.672448  0.672448  0.672448  0.672448  0.672448\n",
       "1187  0.672448  0.672448  0.672448  0.672448  0.672448\n",
       "1188  0.672448  0.672448  0.672448  0.672448  0.672448\n",
       "1189  0.672448  0.672448  0.672448  0.672448  0.672448\n",
       "1190  0.672448  0.672448  0.672448  0.672448  0.672448\n",
       "1191  0.672448  0.672448  0.672448  0.672448  0.672448\n",
       "1192  0.672448  0.672448  0.672448  0.672448  0.672448\n",
       "1193  0.672448  0.672448  0.672448  0.672448  0.672448\n",
       "1194  0.672448  0.672448  0.672448  0.672448  0.672448\n",
       "1195  0.672448  0.672448  0.672448  0.672448  0.672448\n",
       "1196  0.672448  0.672448  0.672448  0.672448  0.672448\n",
       "1197  0.672448  0.672448  0.672448  0.672448  0.672448\n",
       "1198  0.672448  0.672448  0.672448  0.672448  0.672448\n",
       "1199  0.672448  0.672448  0.672448  0.672448  0.672448\n",
       "1200  0.672448  0.672448  0.672448  0.672448  0.672448\n",
       "1201  0.672448  0.672448  0.672448  0.672448  0.672448\n",
       "1202  0.672448  0.672448  0.672448  0.672448  0.672448\n",
       "1203  0.672448  0.672448  0.672448  0.672448  0.672448\n",
       "1204  0.672448  0.672448  0.672448  0.672448  0.672448\n",
       "1205  0.672448  0.672448  0.672448  0.672448  0.672448\n",
       "1206  0.672448  0.672448  0.672448  0.672448  0.672448\n",
       "1207  0.672448  0.672448  0.672448  0.672448  0.672448\n",
       "1208  0.672448  0.672448  0.672448  0.672448  0.672448\n",
       "1209  0.672448  0.672448  0.672448  0.672448  0.672448\n",
       "\n",
       "[1206 rows x 5 columns]"
      ]
     },
     "execution_count": 40,
     "metadata": {},
     "output_type": "execute_result"
    }
   ],
   "source": [
    "co_df = pd.DataFrame(columns=[i for i in range(5)])\n",
    "for i in range(4, len(df)):\n",
    "    queue = df.iloc[i:i+5]\n",
    "    if len(queue) < 5:\n",
    "        continue\n",
    "        \n",
    "    v = pca.transform(queue).transpose()[0]\n",
    "    co_df.loc[i] = v\n",
    "co_df"
   ]
  },
  {
   "cell_type": "code",
   "execution_count": 30,
   "metadata": {},
   "outputs": [
    {
     "data": {
      "text/plain": [
       "array([-0.11603438, -0.17578981, -0.17704556, -0.12297157, -0.15021702])"
      ]
     },
     "execution_count": 30,
     "metadata": {},
     "output_type": "execute_result"
    }
   ],
   "source": [
    "pca.transform(queue).transpose()[0]"
   ]
  },
  {
   "cell_type": "code",
   "execution_count": null,
   "metadata": {},
   "outputs": [],
   "source": []
  }
 ],
 "metadata": {
  "kernelspec": {
   "display_name": "py3.6ten1.13",
   "language": "python",
   "name": "py3.6ten1.13"
  },
  "language_info": {
   "codemirror_mode": {
    "name": "ipython",
    "version": 3
   },
   "file_extension": ".py",
   "mimetype": "text/x-python",
   "name": "python",
   "nbconvert_exporter": "python",
   "pygments_lexer": "ipython3",
   "version": "3.7.3"
  }
 },
 "nbformat": 4,
 "nbformat_minor": 2
}
